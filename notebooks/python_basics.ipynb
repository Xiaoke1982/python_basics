{
 "cells": [
  {
   "cell_type": "code",
   "execution_count": 1,
   "id": "1fd61f34-e866-4632-89f3-026fbaca9eae",
   "metadata": {},
   "outputs": [
    {
     "name": "stdout",
     "output_type": "stream",
     "text": [
      "hello, world!\n"
     ]
    }
   ],
   "source": [
    "print (\"hello, world!\")"
   ]
  },
  {
   "cell_type": "markdown",
   "id": "527bb31c-1f57-4602-9f3f-26a82b9a60bb",
   "metadata": {
    "jp-MarkdownHeadingCollapsed": true
   },
   "source": [
    "## 1. Primitive Types\n",
    "integer, floating-point, string, boolean, list, tuple, dictionary, literal blocking string"
   ]
  },
  {
   "cell_type": "markdown",
   "id": "71978da6-4bf1-48a0-9ca5-a7f0884ebd50",
   "metadata": {
    "jp-MarkdownHeadingCollapsed": true
   },
   "source": [
    "### 1.1 integer"
   ]
  },
  {
   "cell_type": "code",
   "execution_count": 1,
   "id": "8028f39e-5138-48f0-8ebd-a1a276be1045",
   "metadata": {},
   "outputs": [
    {
     "data": {
      "text/plain": [
       "50"
      ]
     },
     "execution_count": 1,
     "metadata": {},
     "output_type": "execute_result"
    }
   ],
   "source": [
    "50"
   ]
  },
  {
   "cell_type": "code",
   "execution_count": 5,
   "id": "cbe12c21-5770-4098-86e6-f44407f4431d",
   "metadata": {},
   "outputs": [
    {
     "data": {
      "text/plain": [
       "79"
      ]
     },
     "execution_count": 5,
     "metadata": {},
     "output_type": "execute_result"
    }
   ],
   "source": [
    "#16进制数值\n",
    "0x4F"
   ]
  },
  {
   "cell_type": "markdown",
   "id": "cb325adb-e676-4837-a9ce-5a68f039ea96",
   "metadata": {
    "jp-MarkdownHeadingCollapsed": true
   },
   "source": [
    "### 1.2 floating-point"
   ]
  },
  {
   "cell_type": "code",
   "execution_count": 6,
   "id": "03f1d490-1359-4776-9c48-cd514c80728f",
   "metadata": {},
   "outputs": [
    {
     "data": {
      "text/plain": [
       "25.45"
      ]
     },
     "execution_count": 6,
     "metadata": {},
     "output_type": "execute_result"
    }
   ],
   "source": [
    "25.45"
   ]
  },
  {
   "cell_type": "code",
   "execution_count": 7,
   "id": "07235ad7-30b6-4643-b93d-fe76dde3c5e0",
   "metadata": {},
   "outputs": [
    {
     "data": {
      "text/plain": [
       "0.017045"
      ]
     },
     "execution_count": 7,
     "metadata": {},
     "output_type": "execute_result"
    }
   ],
   "source": [
    "17.045E-03"
   ]
  },
  {
   "cell_type": "markdown",
   "id": "41f73392-f863-4d84-abfd-3716a3bc7f9f",
   "metadata": {
    "jp-MarkdownHeadingCollapsed": true
   },
   "source": [
    "### 1.3 string"
   ]
  },
  {
   "cell_type": "code",
   "execution_count": 9,
   "id": "d7b0e3a6-52d3-43b2-b4b0-42c5df27a2b7",
   "metadata": {},
   "outputs": [
    {
     "data": {
      "text/plain": [
       "'string'"
      ]
     },
     "execution_count": 9,
     "metadata": {},
     "output_type": "execute_result"
    }
   ],
   "source": [
    "\"string\""
   ]
  },
  {
   "cell_type": "code",
   "execution_count": 10,
   "id": "e98964bb-a4b9-4847-82db-bf96c3a4f1cf",
   "metadata": {},
   "outputs": [
    {
     "data": {
      "text/plain": [
       "'another string'"
      ]
     },
     "execution_count": 10,
     "metadata": {},
     "output_type": "execute_result"
    }
   ],
   "source": [
    "'another string'"
   ]
  },
  {
   "cell_type": "markdown",
   "id": "e1099a56-0e92-4f39-9f1f-207a2f3d3f7f",
   "metadata": {
    "jp-MarkdownHeadingCollapsed": true
   },
   "source": [
    "### 1.4 boolean"
   ]
  },
  {
   "cell_type": "code",
   "execution_count": 13,
   "id": "c74403c5-2f5e-4694-aee3-a435562eb6fe",
   "metadata": {},
   "outputs": [
    {
     "data": {
      "text/plain": [
       "True"
      ]
     },
     "execution_count": 13,
     "metadata": {},
     "output_type": "execute_result"
    }
   ],
   "source": [
    "True"
   ]
  },
  {
   "cell_type": "code",
   "execution_count": 14,
   "id": "db38c111-64b8-4b91-94dd-8f82f3979df3",
   "metadata": {},
   "outputs": [
    {
     "data": {
      "text/plain": [
       "False"
      ]
     },
     "execution_count": 14,
     "metadata": {},
     "output_type": "execute_result"
    }
   ],
   "source": [
    "False"
   ]
  },
  {
   "cell_type": "markdown",
   "id": "9f9b9cd1-95f5-4e9a-a201-45d6cb4e0ef6",
   "metadata": {
    "jp-MarkdownHeadingCollapsed": true
   },
   "source": [
    "### 1.5 list"
   ]
  },
  {
   "cell_type": "code",
   "execution_count": 11,
   "id": "0540cf3f-ad21-4fde-967e-a8b111969483",
   "metadata": {},
   "outputs": [
    {
     "data": {
      "text/plain": [
       "[1, 2, 3, 4]"
      ]
     },
     "execution_count": 11,
     "metadata": {},
     "output_type": "execute_result"
    }
   ],
   "source": [
    "[1,2,3,4]"
   ]
  },
  {
   "cell_type": "code",
   "execution_count": 12,
   "id": "473716d1-a05b-4a97-b368-d6f53e2d703e",
   "metadata": {},
   "outputs": [
    {
     "data": {
      "text/plain": [
       "['abc', 1, 4.5, True]"
      ]
     },
     "execution_count": 12,
     "metadata": {},
     "output_type": "execute_result"
    }
   ],
   "source": [
    "[\"abc\",1, 4.5, True]"
   ]
  },
  {
   "cell_type": "markdown",
   "id": "7e35b33a-b79b-4353-bb16-525f2ddf5df3",
   "metadata": {
    "jp-MarkdownHeadingCollapsed": true
   },
   "source": [
    "### 1.6 tuple\n",
    "similar to list， butcontens cannot be changed once a tuple has been created"
   ]
  },
  {
   "cell_type": "code",
   "execution_count": 15,
   "id": "9d02d69d-c1ed-4940-92a4-5651dd5e5c49",
   "metadata": {},
   "outputs": [
    {
     "data": {
      "text/plain": [
       "(1, 2, 'd')"
      ]
     },
     "execution_count": 15,
     "metadata": {},
     "output_type": "execute_result"
    }
   ],
   "source": [
    "(1,2,\"d\")"
   ]
  },
  {
   "cell_type": "markdown",
   "id": "36fed602-788e-412b-aa4f-234b18f6e0f8",
   "metadata": {
    "jp-MarkdownHeadingCollapsed": true
   },
   "source": [
    "### 1.7 dictionary"
   ]
  },
  {
   "cell_type": "code",
   "execution_count": 16,
   "id": "8c3f615a-90d6-4ebc-b26d-ee5165e9e210",
   "metadata": {},
   "outputs": [
    {
     "data": {
      "text/plain": [
       "{123: 'abc', 456: 'bbb', 789: 2.3}"
      ]
     },
     "execution_count": 16,
     "metadata": {},
     "output_type": "execute_result"
    }
   ],
   "source": [
    "{123:\"abc\", 456:\"bbb\", 789:2.3}"
   ]
  },
  {
   "cell_type": "markdown",
   "id": "3e9af660-5d2e-4ad9-b456-7e4e68c135a3",
   "metadata": {},
   "source": [
    "### 1.8 literal block string"
   ]
  },
  {
   "cell_type": "code",
   "execution_count": 18,
   "id": "4a5e766d-8a5b-4603-bd16-5b85e634c797",
   "metadata": {},
   "outputs": [
    {
     "data": {
      "text/plain": [
       "'This is a string which \\n   can continue onto a new line. When printed, it will appear \\n   exactly as written between the triple quotes.'"
      ]
     },
     "execution_count": 18,
     "metadata": {},
     "output_type": "execute_result"
    }
   ],
   "source": [
    "\"\"\"This is a string which \n",
    "   can continue onto a new line. When printed, it will appear \n",
    "   exactly as written between the triple quotes.\"\"\""
   ]
  },
  {
   "cell_type": "markdown",
   "id": "7abb830e-c45c-4715-bca9-8c578dacf34b",
   "metadata": {
    "jp-MarkdownHeadingCollapsed": true
   },
   "source": [
    "## 2. Variables\n",
    "A **variable** is a named storage location that associates a name with an **object**.\n",
    "\n",
    "**Variables do not store data themselves**, but instead store **references** to the **objects** that contain the **data**. \n",
    "\n",
    "A **reference** is simply the memory address of the location where the **object** is stored."
   ]
  },
  {
   "cell_type": "markdown",
   "id": "9f4a7189-76cb-40e9-a654-a6533f08329c",
   "metadata": {},
   "source": [
    "### 2.1 Assignment"
   ]
  },
  {
   "cell_type": "code",
   "execution_count": 5,
   "id": "873f3c0b-1f01-42c7-a5e5-d23dc537ba8a",
   "metadata": {},
   "outputs": [],
   "source": [
    "name = \"John\"\n",
    "idNum = 42\n",
    "avg = 3.45"
   ]
  },
  {
   "cell_type": "markdown",
   "id": "4c0238bc-9ef7-400e-b18a-88393ecdf02b",
   "metadata": {},
   "source": [
    "### 2.2 Alias\n",
    "both variables refer to the same object"
   ]
  },
  {
   "cell_type": "code",
   "execution_count": 2,
   "id": "afc6e62f-ce83-4e17-8b07-10c672ab3f2e",
   "metadata": {},
   "outputs": [],
   "source": [
    "name = \"John\"\n",
    "#When onevariable is assigned to another,\n",
    "#the reference contained in the variable on the righthand side is copied to the variable on the lefthand side\n",
    "student = name"
   ]
  },
  {
   "cell_type": "markdown",
   "id": "f5be0420-7139-48ae-a474-c90c1842a688",
   "metadata": {},
   "source": [
    "### 2.3 Null References\n",
    "A variable can be set such that it does **not reference any object**, in which case it’s called a **null reference**. \n",
    "\n",
    "In Python, the special object `None` is used to set a null reference. "
   ]
  },
  {
   "cell_type": "code",
   "execution_count": 7,
   "id": "5b48b1eb-a05c-4734-a193-c89e769dc869",
   "metadata": {},
   "outputs": [],
   "source": [
    "idNum = None"
   ]
  },
  {
   "cell_type": "code",
   "execution_count": 8,
   "id": "0ae199f9-8be2-4edb-b221-8b26069c7555",
   "metadata": {},
   "outputs": [],
   "source": [
    "idNum"
   ]
  },
  {
   "cell_type": "markdown",
   "id": "72dae31f-7148-47ce-8785-5e11e6e2dae1",
   "metadata": {},
   "source": [
    "### 2.4 Constants\n",
    "Python does not support constant variables, but it is common practice to specify constant variables with all capital letters, as illustrated in the following example:"
   ]
  },
  {
   "cell_type": "code",
   "execution_count": 9,
   "id": "9a75d1d5-ab2b-4be3-be51-53b9fe4e4fdc",
   "metadata": {},
   "outputs": [],
   "source": [
    "TAX_RATE = 0.06\n",
    "MAX_SIZE = 100"
   ]
  },
  {
   "cell_type": "markdown",
   "id": "12eabca9-3ee3-428b-829d-5dafc4ad9d54",
   "metadata": {
    "jp-MarkdownHeadingCollapsed": true
   },
   "source": [
    "## 3. Arithmetic Oprators"
   ]
  },
  {
   "cell_type": "code",
   "execution_count": 13,
   "id": "1fdccda1-e904-49ed-855f-918cf43c2896",
   "metadata": {},
   "outputs": [
    {
     "data": {
      "text/plain": [
       "3"
      ]
     },
     "execution_count": 13,
     "metadata": {},
     "output_type": "execute_result"
    }
   ],
   "source": [
    "# floor division \n",
    "11 // 3"
   ]
  },
  {
   "cell_type": "code",
   "execution_count": 1,
   "id": "fe90ec4c-8082-41e9-872a-87693ca65f2d",
   "metadata": {},
   "outputs": [
    {
     "data": {
      "text/plain": [
       "3.0"
      ]
     },
     "execution_count": 1,
     "metadata": {},
     "output_type": "execute_result"
    }
   ],
   "source": [
    "# floor division \n",
    "11 // 3.0"
   ]
  },
  {
   "cell_type": "code",
   "execution_count": 12,
   "id": "a17cfd21-9596-4039-a3f2-6fce121cac40",
   "metadata": {},
   "outputs": [
    {
     "data": {
      "text/plain": [
       "3.6666666666666665"
      ]
     },
     "execution_count": 12,
     "metadata": {},
     "output_type": "execute_result"
    }
   ],
   "source": [
    "# real division\n",
    "11 / 3"
   ]
  },
  {
   "cell_type": "code",
   "execution_count": 2,
   "id": "d4ed5da6-053d-4590-a463-05d7acb991dc",
   "metadata": {},
   "outputs": [
    {
     "data": {
      "text/plain": [
       "3.6666666666666665"
      ]
     },
     "execution_count": 2,
     "metadata": {},
     "output_type": "execute_result"
    }
   ],
   "source": [
    "# real division\n",
    "11 / 3.0"
   ]
  },
  {
   "cell_type": "code",
   "execution_count": 14,
   "id": "cf14fd63-d03e-4f60-861d-bfac947d5139",
   "metadata": {},
   "outputs": [
    {
     "data": {
      "text/plain": [
       "2"
      ]
     },
     "execution_count": 14,
     "metadata": {},
     "output_type": "execute_result"
    }
   ],
   "source": [
    "# modulo operator\n",
    "11 % 3"
   ]
  },
  {
   "cell_type": "code",
   "execution_count": 15,
   "id": "f34c93bd-9988-452b-80ca-b4ce969c9448",
   "metadata": {},
   "outputs": [
    {
     "data": {
      "text/plain": [
       "1024"
      ]
     },
     "execution_count": 15,
     "metadata": {},
     "output_type": "execute_result"
    }
   ],
   "source": [
    "# power \n",
    "2 ** 10"
   ]
  },
  {
   "cell_type": "markdown",
   "id": "1422ec1b-84c8-4b4c-a0a4-eb8622be2680",
   "metadata": {
    "jp-MarkdownHeadingCollapsed": true
   },
   "source": [
    "## 4. Logical Expressions"
   ]
  },
  {
   "cell_type": "markdown",
   "id": "9414dad3-2741-424c-af2a-1e46dbc4f831",
   "metadata": {},
   "source": [
    "### 4.1 Boolean Operators\n",
    "`not` a\n",
    "\n",
    "a `and` b\n",
    "\n",
    "a `or` b"
   ]
  },
  {
   "cell_type": "markdown",
   "id": "41d03752-f07a-4f8e-8745-6fd2231704fa",
   "metadata": {
    "jp-MarkdownHeadingCollapsed": true
   },
   "source": [
    "### 4.2 Object References\n",
    "Python provides the `is` and `is not` operators for comparing references, or the addresses stored in variables."
   ]
  },
  {
   "cell_type": "code",
   "execution_count": 1,
   "id": "87f6ad5a-3e7f-4907-9778-374f753bc154",
   "metadata": {},
   "outputs": [
    {
     "data": {
      "text/plain": [
       "False"
      ]
     },
     "execution_count": 1,
     "metadata": {},
     "output_type": "execute_result"
    }
   ],
   "source": [
    "name1 = \"Smith\"\n",
    "name2 = \"John\"\n",
    "result = name1 is name2\n",
    "result"
   ]
  },
  {
   "cell_type": "code",
   "execution_count": 2,
   "id": "7ebf7ce6-32e7-48a3-b0ad-7d20c6c4d5b5",
   "metadata": {},
   "outputs": [
    {
     "data": {
      "text/plain": [
       "True"
      ]
     },
     "execution_count": 2,
     "metadata": {},
     "output_type": "execute_result"
    }
   ],
   "source": [
    "name2 = name1\n",
    "result = name1 is name2\n",
    "result"
   ]
  },
  {
   "cell_type": "code",
   "execution_count": 3,
   "id": "e5fb886d-2dc0-4207-b5e5-00e4abf74272",
   "metadata": {},
   "outputs": [
    {
     "data": {
      "text/plain": [
       "False"
      ]
     },
     "execution_count": 3,
     "metadata": {},
     "output_type": "execute_result"
    }
   ],
   "source": [
    "name1 is not name2"
   ]
  },
  {
   "cell_type": "code",
   "execution_count": 4,
   "id": "c9ec6299-462f-41f5-a26b-f7141ac5d234",
   "metadata": {},
   "outputs": [
    {
     "data": {
      "text/plain": [
       "False"
      ]
     },
     "execution_count": 4,
     "metadata": {},
     "output_type": "execute_result"
    }
   ],
   "source": [
    "not (name1 is name2)"
   ]
  },
  {
   "cell_type": "code",
   "execution_count": 5,
   "id": "468cf0f9-5b8d-4c19-a57a-adfe578973e4",
   "metadata": {},
   "outputs": [
    {
     "data": {
      "text/plain": [
       "False"
      ]
     },
     "execution_count": 5,
     "metadata": {},
     "output_type": "execute_result"
    }
   ],
   "source": [
    "name1 is None"
   ]
  },
  {
   "cell_type": "code",
   "execution_count": 6,
   "id": "426f94ee-ac1e-41f0-a141-082ba041d83d",
   "metadata": {},
   "outputs": [
    {
     "data": {
      "text/plain": [
       "True"
      ]
     },
     "execution_count": 6,
     "metadata": {},
     "output_type": "execute_result"
    }
   ],
   "source": [
    "name2 is not None"
   ]
  },
  {
   "cell_type": "markdown",
   "id": "cb4cc83f-24c7-44ff-8f10-57bf4532ce83",
   "metadata": {
    "jp-MarkdownHeadingCollapsed": true
   },
   "source": [
    "## 5. Functions\n",
    "built-in types' constructors and methods"
   ]
  },
  {
   "cell_type": "markdown",
   "id": "b4620e30-f0ea-43b6-82d7-9e074e74164a",
   "metadata": {},
   "source": [
    "### 5.1 `int()`"
   ]
  },
  {
   "cell_type": "code",
   "execution_count": 8,
   "id": "842cad87-d07a-45bb-8b72-6bf36777e45c",
   "metadata": {},
   "outputs": [
    {
     "data": {
      "text/plain": [
       "45"
      ]
     },
     "execution_count": 8,
     "metadata": {},
     "output_type": "execute_result"
    }
   ],
   "source": [
    "int(45.1)"
   ]
  },
  {
   "cell_type": "code",
   "execution_count": 11,
   "id": "77902e7d-e8c0-4819-a594-1530af6708a1",
   "metadata": {},
   "outputs": [
    {
     "data": {
      "text/plain": [
       "45"
      ]
     },
     "execution_count": 11,
     "metadata": {},
     "output_type": "execute_result"
    }
   ],
   "source": [
    "int(\"45\")"
   ]
  },
  {
   "cell_type": "markdown",
   "id": "c84cde7b-405a-498c-af71-0bcaf3b5dd05",
   "metadata": {},
   "source": [
    "### 5.2 `bool()`"
   ]
  },
  {
   "cell_type": "code",
   "execution_count": 15,
   "id": "656e2911-4b50-415e-9e4f-4f250b265bbb",
   "metadata": {},
   "outputs": [
    {
     "data": {
      "text/plain": [
       "True"
      ]
     },
     "execution_count": 15,
     "metadata": {},
     "output_type": "execute_result"
    }
   ],
   "source": [
    "# 45 is non-zero, so returen True\n",
    "bool(45)"
   ]
  },
  {
   "cell_type": "code",
   "execution_count": 14,
   "id": "70586bf0-fdcf-4e30-8cec-49ef9e44f5cf",
   "metadata": {},
   "outputs": [
    {
     "data": {
      "text/plain": [
       "True"
      ]
     },
     "execution_count": 14,
     "metadata": {},
     "output_type": "execute_result"
    }
   ],
   "source": [
    "bool(\"True\")"
   ]
  },
  {
   "cell_type": "code",
   "execution_count": 16,
   "id": "cee170a2-8547-4434-a860-2a570bf32720",
   "metadata": {},
   "outputs": [
    {
     "data": {
      "text/plain": [
       "False"
      ]
     },
     "execution_count": 16,
     "metadata": {},
     "output_type": "execute_result"
    }
   ],
   "source": [
    "bool(0)"
   ]
  },
  {
   "cell_type": "markdown",
   "id": "1d464c29-8036-4843-b787-7d06124913f0",
   "metadata": {},
   "source": [
    "### 5.3 `float()`"
   ]
  },
  {
   "cell_type": "code",
   "execution_count": 17,
   "id": "c671d518-6b24-4b8e-a38d-2062daeef366",
   "metadata": {},
   "outputs": [
    {
     "data": {
      "text/plain": [
       "4.56"
      ]
     },
     "execution_count": 17,
     "metadata": {},
     "output_type": "execute_result"
    }
   ],
   "source": [
    "float(\"4.56\")"
   ]
  },
  {
   "cell_type": "code",
   "execution_count": 18,
   "id": "ababe43d-02bb-4413-8ef7-ec480397047a",
   "metadata": {},
   "outputs": [
    {
     "data": {
      "text/plain": [
       "4.0"
      ]
     },
     "execution_count": 18,
     "metadata": {},
     "output_type": "execute_result"
    }
   ],
   "source": [
    "float(4)"
   ]
  },
  {
   "cell_type": "markdown",
   "id": "1b4e11e4-a752-4d69-88c5-dc340c581d7d",
   "metadata": {},
   "source": [
    "### 5.4 `str()`"
   ]
  },
  {
   "cell_type": "code",
   "execution_count": 19,
   "id": "1b880433-416f-4f36-b322-e561d122ee58",
   "metadata": {},
   "outputs": [
    {
     "data": {
      "text/plain": [
       "'3.4'"
      ]
     },
     "execution_count": 19,
     "metadata": {},
     "output_type": "execute_result"
    }
   ],
   "source": [
    "str(3.4)"
   ]
  },
  {
   "cell_type": "code",
   "execution_count": 20,
   "id": "1aad04f6-7018-43ae-bc4d-c7660fb396ef",
   "metadata": {},
   "outputs": [
    {
     "data": {
      "text/plain": [
       "'555'"
      ]
     },
     "execution_count": 20,
     "metadata": {},
     "output_type": "execute_result"
    }
   ],
   "source": [
    "str(555)"
   ]
  },
  {
   "cell_type": "code",
   "execution_count": 21,
   "id": "6aef74ec-48a5-4d53-8620-70787ea0b99c",
   "metadata": {},
   "outputs": [
    {
     "data": {
      "text/plain": [
       "'True'"
      ]
     },
     "execution_count": 21,
     "metadata": {},
     "output_type": "execute_result"
    }
   ],
   "source": [
    "str(True)"
   ]
  },
  {
   "cell_type": "markdown",
   "id": "bdcdca05-535e-4936-ac4f-5b350c66acdc",
   "metadata": {},
   "source": [
    "### 5.5 `str().lower()` method"
   ]
  },
  {
   "cell_type": "code",
   "execution_count": 22,
   "id": "27a6b9b5-24ae-416e-8d1f-e6620d3a0f9e",
   "metadata": {},
   "outputs": [
    {
     "data": {
      "text/plain": [
       "'james bond'"
      ]
     },
     "execution_count": 22,
     "metadata": {},
     "output_type": "execute_result"
    }
   ],
   "source": [
    "name = \"James Bond\"\n",
    "name.lower()"
   ]
  },
  {
   "cell_type": "markdown",
   "id": "1e732648-7b82-4fd2-b905-36cec2da9c22",
   "metadata": {
    "jp-MarkdownHeadingCollapsed": true
   },
   "source": [
    "## 6. Standard Library"
   ]
  },
  {
   "cell_type": "code",
   "execution_count": 23,
   "id": "97d6ddea-07dd-43ca-992b-7ba67f9f48c3",
   "metadata": {},
   "outputs": [],
   "source": [
    "from math import sqrt"
   ]
  },
  {
   "cell_type": "code",
   "execution_count": 24,
   "id": "b43e5f74-ccf2-4eb5-bf25-63621652ac79",
   "metadata": {},
   "outputs": [
    {
     "data": {
      "text/plain": [
       "9.0"
      ]
     },
     "execution_count": 24,
     "metadata": {},
     "output_type": "execute_result"
    }
   ],
   "source": [
    "sqrt(81)"
   ]
  },
  {
   "cell_type": "code",
   "execution_count": 25,
   "id": "502cc870-f99a-4fe3-a744-384d7c2e1bb4",
   "metadata": {},
   "outputs": [
    {
     "data": {
      "text/plain": [
       "14.0"
      ]
     },
     "execution_count": 25,
     "metadata": {},
     "output_type": "execute_result"
    }
   ],
   "source": [
    "import math\n",
    "math.sqrt(196)"
   ]
  },
  {
   "cell_type": "markdown",
   "id": "41f538a4-1f72-4687-ba6b-bf23401fafbe",
   "metadata": {
    "jp-MarkdownHeadingCollapsed": true
   },
   "source": [
    "## 7. Collections\n",
    "string, tuple, list and dictionary"
   ]
  },
  {
   "cell_type": "markdown",
   "id": "6ad60baa-8a63-457f-99c2-651e9279a250",
   "metadata": {
    "jp-MarkdownHeadingCollapsed": true
   },
   "source": [
    "### 7.1 Strings"
   ]
  },
  {
   "cell_type": "code",
   "execution_count": 3,
   "id": "5fad11ea-1b31-49e5-b852-0352659613b4",
   "metadata": {},
   "outputs": [
    {
     "data": {
      "text/plain": [
       "'this is a string'"
      ]
     },
     "execution_count": 3,
     "metadata": {},
     "output_type": "execute_result"
    }
   ],
   "source": [
    "a = \"this is \"\n",
    "b = a + \"a string\"\n",
    "b"
   ]
  },
  {
   "cell_type": "code",
   "execution_count": 4,
   "id": "5d5167f3-8747-4678-8867-5d567b3941d9",
   "metadata": {},
   "outputs": [
    {
     "data": {
      "text/plain": [
       "16"
      ]
     },
     "execution_count": 4,
     "metadata": {},
     "output_type": "execute_result"
    }
   ],
   "source": [
    "len(b)"
   ]
  },
  {
   "cell_type": "code",
   "execution_count": 5,
   "id": "13d58236-a1f5-4c0c-813b-8b6a33720fda",
   "metadata": {},
   "outputs": [
    {
     "name": "stdout",
     "output_type": "stream",
     "text": [
      "t\n"
     ]
    }
   ],
   "source": [
    "print(b[0])"
   ]
  },
  {
   "cell_type": "code",
   "execution_count": 7,
   "id": "eca5c896-fa50-4336-83ff-988b0f050a05",
   "metadata": {},
   "outputs": [
    {
     "name": "stdout",
     "output_type": "stream",
     "text": [
      "g\n"
     ]
    }
   ],
   "source": [
    "print(b[-1])"
   ]
  },
  {
   "cell_type": "code",
   "execution_count": 8,
   "id": "6d1b67fd-f9df-451e-b302-d3d1fc1dc343",
   "metadata": {},
   "outputs": [
    {
     "name": "stdout",
     "output_type": "stream",
     "text": [
      "this is a stringthis is a string\n"
     ]
    }
   ],
   "source": [
    "print(b*2)"
   ]
  },
  {
   "cell_type": "markdown",
   "id": "abc5848a-8adc-43c0-be10-e4dbdfb4f0af",
   "metadata": {
    "jp-MarkdownHeadingCollapsed": true
   },
   "source": [
    "### 7.2 Lists"
   ]
  },
  {
   "cell_type": "code",
   "execution_count": 10,
   "id": "8610ae13-aba1-4324-9c46-61511b73ce94",
   "metadata": {},
   "outputs": [
    {
     "data": {
      "text/plain": [
       "[1, 2, 3, 'abc']"
      ]
     },
     "execution_count": 10,
     "metadata": {},
     "output_type": "execute_result"
    }
   ],
   "source": [
    "a = [1,2,3,\"abc\"]\n",
    "a"
   ]
  },
  {
   "cell_type": "code",
   "execution_count": 11,
   "id": "29d8a9da-ba0c-460a-a0dc-04eb0e4a5904",
   "metadata": {},
   "outputs": [
    {
     "data": {
      "text/plain": [
       "int"
      ]
     },
     "execution_count": 11,
     "metadata": {},
     "output_type": "execute_result"
    }
   ],
   "source": [
    "type(a[1])"
   ]
  },
  {
   "cell_type": "code",
   "execution_count": 12,
   "id": "dd6ee94a-7a8a-49eb-96ce-5e00075f9867",
   "metadata": {},
   "outputs": [
    {
     "data": {
      "text/plain": [
       "str"
      ]
     },
     "execution_count": 12,
     "metadata": {},
     "output_type": "execute_result"
    }
   ],
   "source": [
    "type(a[3])"
   ]
  },
  {
   "cell_type": "code",
   "execution_count": 13,
   "id": "85c39c02-ebf3-473b-b23c-b4e5ad57dce0",
   "metadata": {},
   "outputs": [],
   "source": [
    "#empty list\n",
    "A = []\n",
    "B = list()"
   ]
  },
  {
   "cell_type": "markdown",
   "id": "a3d93e3b-3902-4174-b9e2-6755b0f6b976",
   "metadata": {
    "jp-MarkdownHeadingCollapsed": true
   },
   "source": [
    "#### 7.2.1 Element Access"
   ]
  },
  {
   "cell_type": "code",
   "execution_count": 1,
   "id": "7401d66c-d05d-4c88-8115-9fca2569f40e",
   "metadata": {},
   "outputs": [
    {
     "data": {
      "text/plain": [
       "85"
      ]
     },
     "execution_count": 1,
     "metadata": {},
     "output_type": "execute_result"
    }
   ],
   "source": [
    "gradList = [85, 90, 87, 65, 91]\n",
    "gradList[0]"
   ]
  },
  {
   "cell_type": "code",
   "execution_count": 2,
   "id": "770c8a29-bf46-4558-a629-2d27020d5227",
   "metadata": {},
   "outputs": [
    {
     "data": {
      "text/plain": [
       "91"
      ]
     },
     "execution_count": 2,
     "metadata": {},
     "output_type": "execute_result"
    }
   ],
   "source": [
    "gradList[-1]"
   ]
  },
  {
   "cell_type": "code",
   "execution_count": 3,
   "id": "8fa0cbdd-cd1f-45bc-99aa-77c1609d5762",
   "metadata": {},
   "outputs": [
    {
     "data": {
      "text/plain": [
       "'[85, 90, 87, 65, 91]'"
      ]
     },
     "execution_count": 3,
     "metadata": {},
     "output_type": "execute_result"
    }
   ],
   "source": [
    "str(gradList)"
   ]
  },
  {
   "cell_type": "code",
   "execution_count": 4,
   "id": "aa426cc6-eefe-4408-8a48-95c4dcdc7b81",
   "metadata": {},
   "outputs": [
    {
     "name": "stdout",
     "output_type": "stream",
     "text": [
      "85\n",
      "90\n",
      "87\n",
      "65\n",
      "91\n"
     ]
    }
   ],
   "source": [
    "for grad in gradList:\n",
    "    print(grad)"
   ]
  },
  {
   "cell_type": "markdown",
   "id": "8cd336cf-6a58-42ba-a881-6a78ff3e047d",
   "metadata": {},
   "source": [
    "#### 7.2.2 List Modification"
   ]
  },
  {
   "cell_type": "code",
   "execution_count": 5,
   "id": "67c24bdf-14a8-4e88-9b81-57451c932801",
   "metadata": {},
   "outputs": [
    {
     "data": {
      "text/plain": [
       "[85, 90, 87, 65, 91]"
      ]
     },
     "execution_count": 5,
     "metadata": {},
     "output_type": "execute_result"
    }
   ],
   "source": [
    "gradList"
   ]
  },
  {
   "cell_type": "code",
   "execution_count": 6,
   "id": "7c07a883-6f54-4e03-858c-ae8de285445a",
   "metadata": {},
   "outputs": [
    {
     "data": {
      "text/plain": [
       "[85, 90, 87, 71, 91]"
      ]
     },
     "execution_count": 6,
     "metadata": {},
     "output_type": "execute_result"
    }
   ],
   "source": [
    "gradList[3] = 71\n",
    "gradList"
   ]
  },
  {
   "cell_type": "code",
   "execution_count": 8,
   "id": "7aaf7fbe-6c69-4f81-bfb5-b199833aebbc",
   "metadata": {},
   "outputs": [
    {
     "data": {
      "text/plain": [
       "[0.6312673140055338,\n",
       " 0.22465156666606367,\n",
       " 0.07548578371414927,\n",
       " 0.6554945583695628,\n",
       " 0.269975565968826,\n",
       " 0.8523403903853491,\n",
       " 0.6707160574632518,\n",
       " 0.33627090276647353,\n",
       " 0.7576800856890199,\n",
       " 0.33121471180470574]"
      ]
     },
     "execution_count": 8,
     "metadata": {},
     "output_type": "execute_result"
    }
   ],
   "source": [
    "# append()\n",
    "import random\n",
    "\n",
    "values = list()\n",
    "for i in range(10):\n",
    "    values.append(random.random())\n",
    "values"
   ]
  },
  {
   "cell_type": "code",
   "execution_count": 12,
   "id": "a8ad9f6a-8992-4c65-a443-c9a747f71437",
   "metadata": {},
   "outputs": [
    {
     "name": "stdout",
     "output_type": "stream",
     "text": [
      "Help on built-in function random:\n",
      "\n",
      "random() method of random.Random instance\n",
      "    random() -> x in the interval [0, 1).\n",
      "\n"
     ]
    }
   ],
   "source": [
    "help(random.random)"
   ]
  },
  {
   "cell_type": "code",
   "execution_count": 21,
   "id": "eb4294a1-6a47-494f-ab25-5eff54578738",
   "metadata": {},
   "outputs": [
    {
     "data": {
      "text/plain": [
       "[1, 2, 3, 4, 5, 6]"
      ]
     },
     "execution_count": 21,
     "metadata": {},
     "output_type": "execute_result"
    }
   ],
   "source": [
    "# extend()\n",
    "listA = [1,2,3]\n",
    "listB = [4,5,6]\n",
    "listA.extend(listB)\n",
    "listA"
   ]
  },
  {
   "cell_type": "code",
   "execution_count": 22,
   "id": "831e69ca-0cb1-4e4a-9314-0ce74a75b091",
   "metadata": {},
   "outputs": [
    {
     "data": {
      "text/plain": [
       "[1, 888, 2, 3, 4, 5]"
      ]
     },
     "execution_count": 22,
     "metadata": {},
     "output_type": "execute_result"
    }
   ],
   "source": [
    "#insert()\n",
    "a = [1,2,3,4,5]\n",
    "a.insert(1,888)\n",
    "a"
   ]
  },
  {
   "cell_type": "code",
   "execution_count": 23,
   "id": "ffafc37f-6f7f-40ae-ae58-9e9ab448077f",
   "metadata": {},
   "outputs": [
    {
     "data": {
      "text/plain": [
       "[1, 2, 3, 4, 5]"
      ]
     },
     "execution_count": 23,
     "metadata": {},
     "output_type": "execute_result"
    }
   ],
   "source": [
    "#remove(): delete by value\n",
    "a.remove(888)\n",
    "a"
   ]
  },
  {
   "cell_type": "code",
   "execution_count": 34,
   "id": "9bb520f1-75b3-47fc-ac07-0b096df7b03d",
   "metadata": {},
   "outputs": [
    {
     "data": {
      "text/plain": [
       "[1, 2, 3, 4, 5]"
      ]
     },
     "execution_count": 34,
     "metadata": {},
     "output_type": "execute_result"
    }
   ],
   "source": [
    "#.pop(index): delete by index\n",
    "b = [1,888,2,3,4,5]\n",
    "b.pop(1)\n",
    "b"
   ]
  },
  {
   "cell_type": "markdown",
   "id": "ac9e796f-a5e3-4879-aa7b-b40e23d0a7f9",
   "metadata": {
    "jp-MarkdownHeadingCollapsed": true
   },
   "source": [
    "#### 7.2.3 Searching the list"
   ]
  },
  {
   "cell_type": "code",
   "execution_count": 25,
   "id": "29935420-d5ad-4f34-8b3d-74d5a18b8b6c",
   "metadata": {},
   "outputs": [
    {
     "data": {
      "text/plain": [
       "5"
      ]
     },
     "execution_count": 25,
     "metadata": {},
     "output_type": "execute_result"
    }
   ],
   "source": [
    "#index(): takes the value and returns the FIRST position\n",
    "A = [3,4,5,6,7,8]\n",
    "A.index(8)"
   ]
  },
  {
   "cell_type": "code",
   "execution_count": 27,
   "id": "27602421-11d5-4099-8281-9fa1d0314159",
   "metadata": {},
   "outputs": [
    {
     "data": {
      "text/plain": [
       "3"
      ]
     },
     "execution_count": 27,
     "metadata": {},
     "output_type": "execute_result"
    }
   ],
   "source": [
    "B = [2,3,4,5,6,5]\n",
    "#returns the position of the FIRST 5\n",
    "B.index(5)"
   ]
  },
  {
   "cell_type": "markdown",
   "id": "cc73d973-63df-44c9-82ee-bac5285b47b1",
   "metadata": {},
   "source": [
    "### 7.3 Tuples\n",
    "Tuples are exactly like lists, except they are immutable."
   ]
  },
  {
   "cell_type": "markdown",
   "id": "76edeb04-b2f5-499e-9d59-f86ced4a8740",
   "metadata": {
    "jp-MarkdownHeadingCollapsed": true
   },
   "source": [
    "### 7.4 Dictionaries"
   ]
  },
  {
   "cell_type": "code",
   "execution_count": 28,
   "id": "8e7f82d8-6bc0-4b0b-8f85-630a680d6bf4",
   "metadata": {},
   "outputs": [],
   "source": [
    "#empty dictionary\n",
    "A = {}\n",
    "B = dict()"
   ]
  },
  {
   "cell_type": "code",
   "execution_count": 29,
   "id": "1aeaa475-03bd-4656-8c2a-c09a46448fdc",
   "metadata": {},
   "outputs": [
    {
     "name": "stdout",
     "output_type": "stream",
     "text": [
      "0 = Freshman\n",
      "1 = Sophomore\n",
      "2 = Junior\n",
      "3 = Senior\n"
     ]
    }
   ],
   "source": [
    "classLevel = { 0 : 'Freshman', 1 : 'Sophomore', 2 : 'Junior', 3: 'Senior' }\n",
    "\n",
    "#element access\n",
    "for key in classLevel:\n",
    "    print (key, \"=\", classLevel[key])"
   ]
  },
  {
   "cell_type": "code",
   "execution_count": 30,
   "id": "fd295e3e-4cb3-4662-9b19-6039a91636e5",
   "metadata": {},
   "outputs": [
    {
     "data": {
      "text/plain": [
       "dict_keys([0, 1, 2, 3])"
      ]
     },
     "execution_count": 30,
     "metadata": {},
     "output_type": "execute_result"
    }
   ],
   "source": [
    "classLevel.keys()"
   ]
  },
  {
   "cell_type": "code",
   "execution_count": 31,
   "id": "766c9791-fb32-4755-a8da-e4ca73fbf6ab",
   "metadata": {},
   "outputs": [
    {
     "data": {
      "text/plain": [
       "dict_values(['Freshman', 'Sophomore', 'Junior', 'Senior'])"
      ]
     },
     "execution_count": 31,
     "metadata": {},
     "output_type": "execute_result"
    }
   ],
   "source": [
    "classLevel.values()"
   ]
  },
  {
   "cell_type": "code",
   "execution_count": 32,
   "id": "643f3243-b097-4cb8-84bd-3aae71fb4f8e",
   "metadata": {},
   "outputs": [
    {
     "data": {
      "text/plain": [
       "dict_keys"
      ]
     },
     "execution_count": 32,
     "metadata": {},
     "output_type": "execute_result"
    }
   ],
   "source": [
    "type(classLevel.keys())"
   ]
  },
  {
   "cell_type": "code",
   "execution_count": 33,
   "id": "2291a7e0-92a1-47eb-aa95-c2103d6019bd",
   "metadata": {},
   "outputs": [
    {
     "data": {
      "text/plain": [
       "{0: 'Freshwoman', 1: 'Sophomore', 2: 'Junior', 3: 'Senior'}"
      ]
     },
     "execution_count": 33,
     "metadata": {},
     "output_type": "execute_result"
    }
   ],
   "source": [
    "#modification\n",
    "classLevel[0] = \"Freshwoman\"\n",
    "classLevel"
   ]
  },
  {
   "cell_type": "code",
   "execution_count": 35,
   "id": "10fb0e33-76d3-47d3-8611-e4654f0baa3b",
   "metadata": {},
   "outputs": [
    {
     "data": {
      "text/plain": [
       "{1: 'Sophomore', 2: 'Junior', 3: 'Senior'}"
      ]
     },
     "execution_count": 35,
     "metadata": {},
     "output_type": "execute_result"
    }
   ],
   "source": [
    "#delete .pop(key)\n",
    "classLevel.pop(0)\n",
    "classLevel"
   ]
  },
  {
   "cell_type": "markdown",
   "id": "a3c821ed-6ad9-4523-9a99-43b02a07c9fd",
   "metadata": {
    "jp-MarkdownHeadingCollapsed": true
   },
   "source": [
    "## 8. Functions"
   ]
  },
  {
   "cell_type": "markdown",
   "id": "21a93608-682d-4acb-a93d-5ba50c2521d1",
   "metadata": {
    "jp-MarkdownHeadingCollapsed": true
   },
   "source": [
    "### 8.1 Variable Scope\n",
    "Python has **four scope** classifications. \n",
    "\n",
    "The **built-in scope** includes the variables and literal values defined as part of the language, which can be used anywhere within a program. \n",
    "\n",
    "The **global scope** includes the variables created at the top level of a source file or module (outside of all functions and classes). Unlike other languages in which a global variable can be used anywhere within a program, each module in Python creates its own global scope.\n",
    "\n",
    "The **local scope** includes the variables created within a function or method and are local to the given subroutine. Function and method arguments are local variables. \n",
    "\n",
    "And finally, the **instance scope** includes the variables defined as data attributes of a class."
   ]
  },
  {
   "cell_type": "markdown",
   "id": "4c68d16a-e1a2-4165-aa8f-12934b806345",
   "metadata": {
    "jp-MarkdownHeadingCollapsed": true
   },
   "source": [
    "### 8.2 Main Routine"
   ]
  },
  {
   "cell_type": "code",
   "execution_count": 2,
   "id": "62879f69-ee0d-4671-9a88-5c7f175c5f28",
   "metadata": {},
   "outputs": [
    {
     "name": "stdin",
     "output_type": "stream",
     "text": [
      "Enter a value:  333\n"
     ]
    },
    {
     "name": "stdout",
     "output_type": "stream",
     "text": [
      "The double of your value is  666\n"
     ]
    }
   ],
   "source": [
    "#you can refer to one function from within another before the former has been defined\n",
    "def run():\n",
    "    value = int( input(\"Enter a value: \") )\n",
    "    print( \"The double of your value is \", doubleIt( value ) )\n",
    "\n",
    "def doubleIt( num ): \n",
    "    return num * 2\n",
    "\n",
    "run()"
   ]
  },
  {
   "cell_type": "code",
   "execution_count": 3,
   "id": "f9415cd3-7e85-491d-913d-49b8fa281394",
   "metadata": {},
   "outputs": [
    {
     "ename": "NameError",
     "evalue": "name 'callIt' is not defined",
     "output_type": "error",
     "traceback": [
      "\u001b[0;31m---------------------------------------------------------------------------\u001b[0m",
      "\u001b[0;31mNameError\u001b[0m                                 Traceback (most recent call last)",
      "Cell \u001b[0;32mIn[3], line 3\u001b[0m\n\u001b[1;32m      1\u001b[0m \u001b[38;5;66;03m#If a function is called at file level before the function has been defined,\u001b[39;00m\n\u001b[1;32m      2\u001b[0m \u001b[38;5;66;03m#the interpreter does not know about the function and has no way of executing it\u001b[39;00m\n\u001b[0;32m----> 3\u001b[0m callIt( \u001b[38;5;241m5\u001b[39m )\n\u001b[1;32m      4\u001b[0m \u001b[38;5;28;01mdef\u001b[39;00m \u001b[38;5;21mcallIt\u001b[39m( num ):\n\u001b[1;32m      5\u001b[0m     \u001b[38;5;28;01mreturn\u001b[39;00m \u001b[38;5;28mpow\u001b[39m( num, \u001b[38;5;241m2\u001b[39m )\n",
      "\u001b[0;31mNameError\u001b[0m: name 'callIt' is not defined"
     ]
    }
   ],
   "source": [
    "#If a function is called at file level before the function has been defined,\n",
    "#the interpreter does not know about the function and has no way of executing it\n",
    "callIt( 5 )\n",
    "def callIt( num ):\n",
    "    return pow( num, 2 )"
   ]
  },
  {
   "cell_type": "markdown",
   "id": "4e1841ae-7de0-4f0d-97e4-b157b7264d61",
   "metadata": {},
   "source": [
    "The order in which functions are listed within a file is not important, but the order of executable statements at file level is. \n",
    "\n",
    "When subdividing a program into various functions using a top-down design, it is good programming practice to **place all executable statements within functions and to specify one function as the driver**.\n",
    "\n",
    "With this approach, the driver function, which is commonly named `main()` due to that name being used in other languages, **can be defined first** with the remaining definitions following it. **At the bottom of the file**, a single file-level statement is used to call the driver function `main()`."
   ]
  },
  {
   "cell_type": "markdown",
   "id": "9549c67b-a9d1-473e-9450-47d72690ca49",
   "metadata": {
    "jp-MarkdownHeadingCollapsed": true
   },
   "source": [
    "## 9. Exceptions"
   ]
  },
  {
   "cell_type": "markdown",
   "id": "3e132dd7-d486-4cd8-a36d-cb155fed2084",
   "metadata": {},
   "source": [
    "An **exception** is an event that can be triggered and optionally handled during program execution. \n",
    "\n",
    "When an exception is raised indicating an error, the program can contain code to catch the exception and gracefully handle it. \n",
    "\n",
    "When an exception is not handled, the program will abort."
   ]
  },
  {
   "cell_type": "markdown",
   "id": "2f85fd5c-d44c-453a-bc16-579176c7dceb",
   "metadata": {
    "jp-MarkdownHeadingCollapsed": true
   },
   "source": [
    "### 9.1 Catching Exceptions"
   ]
  },
  {
   "cell_type": "markdown",
   "id": "16cc7572-b8d2-47a6-9c0d-60b55372caed",
   "metadata": {},
   "source": [
    "Python **raises an exception** which causes the program to abort with the following message printed to the terminal."
   ]
  },
  {
   "cell_type": "code",
   "execution_count": 1,
   "id": "999af8c3-9c63-48a0-be59-b01824585683",
   "metadata": {},
   "outputs": [
    {
     "name": "stdin",
     "output_type": "stream",
     "text": [
      "enter an integer value:  3.4\n"
     ]
    },
    {
     "ename": "ValueError",
     "evalue": "invalid literal for int() with base 10: '3.4'",
     "output_type": "error",
     "traceback": [
      "\u001b[0;31m---------------------------------------------------------------------------\u001b[0m",
      "\u001b[0;31mValueError\u001b[0m                                Traceback (most recent call last)",
      "Cell \u001b[0;32mIn[1], line 1\u001b[0m\n\u001b[0;32m----> 1\u001b[0m value \u001b[38;5;241m=\u001b[39m \u001b[38;5;28mint\u001b[39m(\u001b[38;5;28minput\u001b[39m(\u001b[38;5;124m\"\u001b[39m\u001b[38;5;124menter an integer value: \u001b[39m\u001b[38;5;124m\"\u001b[39m))\n",
      "\u001b[0;31mValueError\u001b[0m: invalid literal for int() with base 10: '3.4'"
     ]
    }
   ],
   "source": [
    "value = int(input(\"enter an integer value: \"))"
   ]
  },
  {
   "cell_type": "markdown",
   "id": "24f82d0d-752c-48a8-a53c-deed3a517fc6",
   "metadata": {},
   "source": [
    "Instead of having the program abort due to the exception, we can provide code to **detect and catch the exception** and request that the user try again."
   ]
  },
  {
   "cell_type": "code",
   "execution_count": 2,
   "id": "2d52dbdf-7ece-479f-a12e-0e548817dc4d",
   "metadata": {},
   "outputs": [
    {
     "name": "stdin",
     "output_type": "stream",
     "text": [
      "enter an integer value:  3.4\n"
     ]
    },
    {
     "name": "stdout",
     "output_type": "stream",
     "text": [
      "You must enter an integer value, try again!\n"
     ]
    },
    {
     "name": "stdin",
     "output_type": "stream",
     "text": [
      "enter an integer value:  59\n"
     ]
    }
   ],
   "source": [
    "while True:\n",
    "    try:\n",
    "        value = int(input(\"enter an integer value: \"))\n",
    "        break    # get out of the while loop\n",
    "    except ValueError:\n",
    "        print(\"You must enter an integer value, try again!\")"
   ]
  },
  {
   "cell_type": "markdown",
   "id": "32742be3-44ad-4843-bef6-615ec3194157",
   "metadata": {},
   "source": [
    "the **`except` block** indicates the action to take when **the given type of exception** is raised within the corresponding try block. \n",
    "\n",
    "If no exception is raised, execution flows normally and the except block is skipped. \n",
    "\n",
    "When an exception is raised, the normal flow of execution is interrupted. \n",
    "\n",
    "If an except block is provided for **the type of exception raised**, execution jumps to the first statement within that except block. \n",
    "\n",
    "On the other hand, if there is **no corresponding except block**, the program terminates."
   ]
  },
  {
   "cell_type": "markdown",
   "id": "5f84ae3a-dfc7-49cb-b8fe-e6d4c1f37055",
   "metadata": {
    "jp-MarkdownHeadingCollapsed": true
   },
   "source": [
    "### 9.2 Raising Exceptions\n",
    "Python automatically raises exceptions when an error occurs during program execution for various language constructs and library modules. But you can also raise an exception when you detect an error in your code."
   ]
  },
  {
   "cell_type": "code",
   "execution_count": 3,
   "id": "76631d91-b286-4835-875b-a567cdc67b0b",
   "metadata": {},
   "outputs": [
    {
     "ename": "TypeError",
     "evalue": "arguments to min() cannot be None",
     "output_type": "error",
     "traceback": [
      "\u001b[0;31m---------------------------------------------------------------------------\u001b[0m",
      "\u001b[0;31mTypeError\u001b[0m                                 Traceback (most recent call last)",
      "Cell \u001b[0;32mIn[3], line 8\u001b[0m\n\u001b[1;32m      6\u001b[0m     \u001b[38;5;28;01melse\u001b[39;00m:\n\u001b[1;32m      7\u001b[0m         \u001b[38;5;28;01mreturn\u001b[39;00m a\n\u001b[0;32m----> 8\u001b[0m \u001b[38;5;28mmin\u001b[39m(\u001b[38;5;241m5\u001b[39m,\u001b[38;5;28;01mNone\u001b[39;00m)\n",
      "Cell \u001b[0;32mIn[3], line 3\u001b[0m, in \u001b[0;36mmin\u001b[0;34m(a, b)\u001b[0m\n\u001b[1;32m      1\u001b[0m \u001b[38;5;28;01mdef\u001b[39;00m \u001b[38;5;21mmin\u001b[39m(a, b):\n\u001b[1;32m      2\u001b[0m     \u001b[38;5;28;01mif\u001b[39;00m a \u001b[38;5;129;01mis\u001b[39;00m \u001b[38;5;28;01mNone\u001b[39;00m \u001b[38;5;129;01mor\u001b[39;00m b \u001b[38;5;129;01mis\u001b[39;00m \u001b[38;5;28;01mNone\u001b[39;00m:\n\u001b[0;32m----> 3\u001b[0m         \u001b[38;5;28;01mraise\u001b[39;00m \u001b[38;5;167;01mTypeError\u001b[39;00m(\u001b[38;5;124m\"\u001b[39m\u001b[38;5;124marguments to min() cannot be None\u001b[39m\u001b[38;5;124m\"\u001b[39m)\n\u001b[1;32m      4\u001b[0m     \u001b[38;5;28;01mif\u001b[39;00m a \u001b[38;5;241m>\u001b[39m b:\n\u001b[1;32m      5\u001b[0m         \u001b[38;5;28;01mreturn\u001b[39;00m b\n",
      "\u001b[0;31mTypeError\u001b[0m: arguments to min() cannot be None"
     ]
    }
   ],
   "source": [
    "def min(a, b):\n",
    "    if a is None or b is None:\n",
    "        raise TypeError(\"arguments to min() cannot be None\")\n",
    "    if a > b:\n",
    "        return b\n",
    "    else:\n",
    "        return a\n",
    "min(5,None)"
   ]
  },
  {
   "cell_type": "markdown",
   "id": "9b6b3193-84ad-43f3-bccc-631f3711759e",
   "metadata": {
    "jp-MarkdownHeadingCollapsed": true
   },
   "source": [
    "### 9.3 Standard Exceptions\n",
    "In Python, exceptions are defined as classes from which an object is created. \n",
    "\n",
    "The name of the class is given as an argument to the `raise` statement. "
   ]
  },
  {
   "cell_type": "markdown",
   "id": "731144fd-d3f0-4f9a-8340-69a945a1ac93",
   "metadata": {},
   "source": [
    "**`IndexError`**: Used when a list or tuple index is out of range.\n",
    "\n",
    "**`KeyError`**: Raised when a dictionary key is not found in a dictionary.\n",
    "\n",
    "**`NotImplementedError`**: Used in user-defined methods to indicate the method is being used but has not yet been implemented.\n",
    "\n",
    "**`RuntimeError`**: Raised to flag an error when no other excep- tion type is appropriate.\n",
    "\n",
    "**`TypeError`**: Raised when an incorrect data type is supplied to an operator or method.\n",
    "\n",
    "**`ValueError`**: Raised when the correct data type is supplied, but it is not an appropriate value."
   ]
  },
  {
   "cell_type": "markdown",
   "id": "1f703095-a5bc-433b-84a9-400562b41e57",
   "metadata": {
    "jp-MarkdownHeadingCollapsed": true
   },
   "source": [
    "### 9.4 Assertions"
   ]
  },
  {
   "cell_type": "markdown",
   "id": "5c95b0d6-ba82-445d-877a-7b97d9e0101a",
   "metadata": {},
   "source": [
    "Python also provides the **`assert`** statement, which can be used to raise the special **AssertionError exception**. \n",
    "\n",
    "The assert statement is used to state what we assume to be true at a given point in the program. \n",
    "\n",
    "If the assertion fails, Python raises an AssertionError and aborts the program, unless the exception is caught.\n",
    "\n",
    "The assert statement combines the testing of a condition with raising an exception. "
   ]
  },
  {
   "cell_type": "code",
   "execution_count": 4,
   "id": "fad3b09f-349a-4dfc-b016-c6d3e70ce76a",
   "metadata": {},
   "outputs": [
    {
     "ename": "AssertionError",
     "evalue": "arguments to min() cannot be None",
     "output_type": "error",
     "traceback": [
      "\u001b[0;31m---------------------------------------------------------------------------\u001b[0m",
      "\u001b[0;31mAssertionError\u001b[0m                            Traceback (most recent call last)",
      "Cell \u001b[0;32mIn[4], line 7\u001b[0m\n\u001b[1;32m      5\u001b[0m     \u001b[38;5;28;01melse\u001b[39;00m:\n\u001b[1;32m      6\u001b[0m         \u001b[38;5;28;01mreturn\u001b[39;00m b\n\u001b[0;32m----> 7\u001b[0m \u001b[38;5;28mmin\u001b[39m(\u001b[38;5;241m3\u001b[39m, \u001b[38;5;28;01mNone\u001b[39;00m)\n",
      "Cell \u001b[0;32mIn[4], line 2\u001b[0m, in \u001b[0;36mmin\u001b[0;34m(a, b)\u001b[0m\n\u001b[1;32m      1\u001b[0m \u001b[38;5;28;01mdef\u001b[39;00m \u001b[38;5;21mmin\u001b[39m(a, b):\n\u001b[0;32m----> 2\u001b[0m     \u001b[38;5;28;01massert\u001b[39;00m a \u001b[38;5;129;01mis\u001b[39;00m \u001b[38;5;129;01mnot\u001b[39;00m \u001b[38;5;28;01mNone\u001b[39;00m \u001b[38;5;129;01mand\u001b[39;00m b \u001b[38;5;129;01mis\u001b[39;00m \u001b[38;5;129;01mnot\u001b[39;00m \u001b[38;5;28;01mNone\u001b[39;00m, \u001b[38;5;124m\"\u001b[39m\u001b[38;5;124marguments to min() cannot be None\u001b[39m\u001b[38;5;124m\"\u001b[39m\n\u001b[1;32m      3\u001b[0m     \u001b[38;5;28;01mif\u001b[39;00m a \u001b[38;5;241m<\u001b[39m b:\n\u001b[1;32m      4\u001b[0m         \u001b[38;5;28;01mreturn\u001b[39;00m a\n",
      "\u001b[0;31mAssertionError\u001b[0m: arguments to min() cannot be None"
     ]
    }
   ],
   "source": [
    "def min(a, b):\n",
    "    assert a is not None and b is not None, \"arguments to min() cannot be None\"\n",
    "    if a < b:\n",
    "        return a\n",
    "    else:\n",
    "        return b\n",
    "min(3, None)"
   ]
  },
  {
   "cell_type": "markdown",
   "id": "a7babd10-4126-4745-bfbf-72dd1ec4f1af",
   "metadata": {},
   "source": [
    "## 10. Classes"
   ]
  },
  {
   "cell_type": "markdown",
   "id": "a54fded3-6f52-4f50-9518-c8d7889add26",
   "metadata": {
    "jp-MarkdownHeadingCollapsed": true
   },
   "source": [
    "### 10.1 Using Modules"
   ]
  },
  {
   "cell_type": "code",
   "execution_count": 1,
   "id": "1003bea6-5d3f-4e82-abe1-475de2668d15",
   "metadata": {},
   "outputs": [],
   "source": [
    "import sys\n",
    "import os\n",
    "\n",
    "sys.path.append(os.path.abspath('../scr'))\n",
    "\n",
    "from point import Point"
   ]
  },
  {
   "cell_type": "code",
   "execution_count": 2,
   "id": "621d59fd-61ca-48f3-8b29-7cd3e8fdea9c",
   "metadata": {},
   "outputs": [
    {
     "name": "stdout",
     "output_type": "stream",
     "text": [
      "5.0\n"
     ]
    }
   ],
   "source": [
    "pointA = Point(3, 4)\n",
    "pointB = Point(0, 0)\n",
    "\n",
    "distance = pointA.distance(pointB)\n",
    "print(distance)"
   ]
  },
  {
   "cell_type": "markdown",
   "id": "4d4c90f9-77a3-4c02-8c14-96f88eb4d1cd",
   "metadata": {
    "jp-MarkdownHeadingCollapsed": true
   },
   "source": [
    "### 10.2 Overloading Operators\n",
    "In Python, we can define and implement many of the standard Python operators such as `+`, `*`, and `==` as part of our user-defined classes. "
   ]
  },
  {
   "cell_type": "code",
   "execution_count": 2,
   "id": "c4c4cd24-e824-474a-9a8d-f586034e62cf",
   "metadata": {},
   "outputs": [],
   "source": [
    "import sys\n",
    "import os\n",
    "\n",
    "sys.path.append(os.path.abspath(\"../scr\"))\n",
    "\n",
    "from point import Point"
   ]
  },
  {
   "cell_type": "code",
   "execution_count": 3,
   "id": "721487c7-ceb2-4f67-84f6-3809afe43308",
   "metadata": {},
   "outputs": [
    {
     "data": {
      "text/plain": [
       "'(3,5)'"
      ]
     },
     "execution_count": 3,
     "metadata": {},
     "output_type": "execute_result"
    }
   ],
   "source": [
    "A = Point(3,5)\n",
    "str(A)"
   ]
  },
  {
   "cell_type": "code",
   "execution_count": 4,
   "id": "fb82e43d-263b-4691-91fe-19c106ce96e8",
   "metadata": {},
   "outputs": [
    {
     "data": {
      "text/plain": [
       "True"
      ]
     },
     "execution_count": 4,
     "metadata": {},
     "output_type": "execute_result"
    }
   ],
   "source": [
    "B = Point(3,5)\n",
    "A == B"
   ]
  },
  {
   "attachments": {
    "854c1f64-24b4-4ff2-9824-830d021c8055.jpg": {
     "image/jpeg": "[encoded data removed]"
    }
   },
   "cell_type": "markdown",
   "id": "14b27641-e5b3-4567-affe-825556030149",
   "metadata": {},
   "source": [
    "![WeChat501b436eaad474a933b0cf34cd1dd2e2.jpg](attachment:854c1f64-24b4-4ff2-9824-830d021c8055.jpg)"
   ]
  },
  {
   "cell_type": "markdown",
   "id": "5946e618-501b-45b6-8cca-aa4f07a52291",
   "metadata": {},
   "source": [
    "### 10.3 Inheritance\n",
    "Inheritance allows us to reuse existing code without having to duplicate similar code. "
   ]
  },
  {
   "attachments": {
    "eb19c080-bd00-4623-90e1-2903593da3dc.jpg": {
     "image/jpeg": "[encoded data removed]"
    }
   },
   "cell_type": "markdown",
   "id": "38da7a2c-50f2-4006-8767-b2665d0b2d9b",
   "metadata": {},
   "source": [
    "![WeChatf651ad68157a7bab97902c447ba86549.jpg](attachment:eb19c080-bd00-4623-90e1-2903593da3dc.jpg)"
   ]
  },
  {
   "cell_type": "code",
   "execution_count": 1,
   "id": "da141fa2-8298-4370-ab6e-9434e0133afb",
   "metadata": {},
   "outputs": [],
   "source": [
    "class Publication:\n",
    "\n",
    "    def __init__(self, code, title, author):\n",
    "\n",
    "        self._code = code\n",
    "        self._title = title\n",
    "        self._author = author\n",
    "\n",
    "\n",
    "    def getCode(self):\n",
    "\n",
    "        return self._code\n",
    "\n",
    "\n",
    "    def getBibEntry(self):\n",
    "        #returns a string containing a formatted bibliography entry\n",
    "        return '[' + self.getCode() + '] \"' + self._title + '\" by ' + self._author\n"
   ]
  },
  {
   "cell_type": "code",
   "execution_count": 3,
   "id": "feec8a8c-eae1-4d66-ae2c-41a4fdec8b6d",
   "metadata": {},
   "outputs": [
    {
     "name": "stdout",
     "output_type": "stream",
     "text": [
      "[Test80] \"Just a test\" by Xiaoke Fei\n"
     ]
    }
   ],
   "source": [
    "pub = Publication(\"Test80\", \"Just a test\", \"Xiaoke Fei\")\n",
    "print (pub.getBibEntry())"
   ]
  },
  {
   "cell_type": "code",
   "execution_count": 9,
   "id": "27db1e30-8bba-4fa0-8fb0-a105b80f8350",
   "metadata": {},
   "outputs": [],
   "source": [
    "class Book(Publication):\n",
    "\n",
    "    def __init__(self, code, title, author, publisher, year):\n",
    "\n",
    "        super().__init__(code, title, author)\n",
    "\n",
    "        self._publisher = publisher\n",
    "        self._year = year\n",
    "\n",
    "\n",
    "    def getBibEntry(self):\n",
    "\n",
    "        return super().getBibEntry() + ', ' + self._publisher + ', ' + str(self._year)\n",
    "        "
   ]
  },
  {
   "cell_type": "code",
   "execution_count": 10,
   "id": "992ef250-6a43-4160-ba2f-1e4241e63ae6",
   "metadata": {},
   "outputs": [
    {
     "name": "stdout",
     "output_type": "stream",
     "text": [
      "[Smith90] \"The Year that Was\" by Derek Fei, Bookends Publishing, 1990\n"
     ]
    }
   ],
   "source": [
    "book = Book(\"Smith90\", \"The Year that Was\", \"Derek Fei\", \"Bookends Publishing\", 1990)\n",
    "print(book.getBibEntry())"
   ]
  },
  {
   "cell_type": "code",
   "execution_count": 11,
   "id": "ae33eb06-6e6a-4a13-8780-c81978be2748",
   "metadata": {},
   "outputs": [],
   "source": [
    "class Chapter(Book):\n",
    "\n",
    "    def __init__(self, code, title, author, publisher, year, chapter, pages):\n",
    "\n",
    "        super().__init__(code, title, author, publisher, year)\n",
    "\n",
    "        self._chapter = chapter\n",
    "        self._pages = pages\n",
    "\n",
    "\n",
    "    def getBibEntry(self):\n",
    "\n",
    "        return super().getBibEntry() + ', Chapter ' + str(self._chapter) + ' pp. ' + str(self._pages)"
   ]
  },
  {
   "cell_type": "code",
   "execution_count": 12,
   "id": "0e25d87c-745c-4c16-a24d-e4da4f0aa436",
   "metadata": {},
   "outputs": [
    {
     "name": "stdout",
     "output_type": "stream",
     "text": [
      "[Smith90] \"The Year that Was\" by Derek Fei, Bookends Publishing, 1990, Chapter 3 pp. 55\n"
     ]
    }
   ],
   "source": [
    "chapter = Chapter(\"Smith90\", \"The Year that Was\", \"Derek Fei\", \"Bookends Publishing\", 1990, 3, 55)\n",
    "print(chapter.getBibEntry())"
   ]
  },
  {
   "cell_type": "code",
   "execution_count": 13,
   "id": "c4b62690-7b48-4c07-a310-470486870d74",
   "metadata": {},
   "outputs": [],
   "source": [
    "class Article(Publication):\n",
    "\n",
    "    def __init__(self, code, title, author, journal, volume, number, year):\n",
    "\n",
    "        super().__init__(self, code, title, author)\n",
    "\n",
    "        self._journal = journal\n",
    "        self._volume = volume\n",
    "        self._number = number\n",
    "        self._year = year"
   ]
  },
  {
   "cell_type": "code",
   "execution_count": 14,
   "id": "27487b02-3f90-4d3c-b1f4-b72445639423",
   "metadata": {},
   "outputs": [],
   "source": [
    "class WebPage(Publication):\n",
    "\n",
    "    def __init__(self, code, title, author, url, modified):\n",
    "\n",
    "        super().__init__(self, code, title, author)\n",
    "\n",
    "        self._url = url\n",
    "        self._modified = modified"
   ]
  },
  {
   "cell_type": "markdown",
   "id": "8cc93001-5ce6-4dcb-8da2-91a81dfbd2a8",
   "metadata": {},
   "source": [
    "### 10.4 Polymorphism"
   ]
  },
  {
   "cell_type": "code",
   "execution_count": 3,
   "id": "1cf49b2d-4d2f-4a5a-8d0d-ea66a0a9cb71",
   "metadata": {},
   "outputs": [],
   "source": [
    "class Publication:\n",
    "\n",
    "    def __init__(self, code, title, author):\n",
    "\n",
    "        self._code = code\n",
    "        self._title = title\n",
    "        self._author = author\n",
    "\n",
    "\n",
    "    def getCode(self):\n",
    "\n",
    "        return self._code\n",
    "\n",
    "\n",
    "    def getBibEntry(self):\n",
    "        #returns a string containing a formatted bibliography entry\n",
    "        return '[' + self.getCode() + '] \"' + self._title + '\" by ' + self._author\n",
    "\n",
    "\n",
    "    def __str__(self):\n",
    "\n",
    "        return self.getBibEntry()\n",
    "\n",
    "pub = Publication(\"Test80\", \"Just a test\", \"Xiaoke Fei\")"
   ]
  },
  {
   "cell_type": "markdown",
   "id": "f1210579-4b26-44d9-a814-637fb7f86a5e",
   "metadata": {},
   "source": [
    "When an object is used within the **`print()`** function, the **str operator method** is automatically called for that object:"
   ]
  },
  {
   "cell_type": "code",
   "execution_count": 4,
   "id": "afbb455b-ec49-4fa1-abba-55106b6a9fb6",
   "metadata": {},
   "outputs": [
    {
     "name": "stdout",
     "output_type": "stream",
     "text": [
      "[Test80] \"Just a test\" by Xiaoke Fei\n"
     ]
    }
   ],
   "source": [
    "print(pub)"
   ]
  },
  {
   "cell_type": "code",
   "execution_count": 9,
   "id": "67fc0283-ce0d-41e8-a60a-a722239a63e9",
   "metadata": {},
   "outputs": [],
   "source": [
    "class Book(Publication):\n",
    "\n",
    "    def __init__(self, code, title, author, publisher, year):\n",
    "\n",
    "        super().__init__(code, title, author)\n",
    "\n",
    "        self._publisher = publisher\n",
    "        self._year = year\n",
    "\n",
    "\n",
    "    def getBibEntry(self):\n",
    "\n",
    "        return super().getBibEntry() + ', ' + self._publisher + ', ' + str(self._year)"
   ]
  },
  {
   "cell_type": "markdown",
   "id": "39599a0a-bf9d-43d7-a1a3-1f06815abdd1",
   "metadata": {},
   "source": [
    "We didn't define a **`__str__`** method for `Book` class, but since the `__str__` method is defined by the parent class, it will be inherited by the child class."
   ]
  },
  {
   "cell_type": "code",
   "execution_count": 10,
   "id": "c5656b19-1646-4168-aa0e-831a6c88cd45",
   "metadata": {},
   "outputs": [
    {
     "name": "stdout",
     "output_type": "stream",
     "text": [
      "[Smith90] \"The Year that Was\" by Derek Fei, Bookends Publishing, 1990\n"
     ]
    }
   ],
   "source": [
    "book = Book(\"Smith90\", \"The Year that Was\", \"Derek Fei\", \"Bookends Publishing\", 1990)\n",
    "print(book)"
   ]
  },
  {
   "cell_type": "code",
   "execution_count": null,
   "id": "a81ca04c-183c-4752-b202-e3f1cc369400",
   "metadata": {},
   "outputs": [],
   "source": []
  }
 ],
 "metadata": {
  "kernelspec": {
   "display_name": "Python 3 (ipykernel)",
   "language": "python",
   "name": "python3"
  },
  "language_info": {
   "codemirror_mode": {
    "name": "ipython",
    "version": 3
   },
   "file_extension": ".py",
   "mimetype": "text/x-python",
   "name": "python",
   "nbconvert_exporter": "python",
   "pygments_lexer": "ipython3",
   "version": "3.12.4"
  }
 },
 "nbformat": 4,
 "nbformat_minor": 5
}
