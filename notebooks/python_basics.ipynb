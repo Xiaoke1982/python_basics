{
 "cells": [
  {
   "cell_type": "code",
   "execution_count": 1,
   "id": "1fd61f34-e866-4632-89f3-026fbaca9eae",
   "metadata": {},
   "outputs": [
    {
     "name": "stdout",
     "output_type": "stream",
     "text": [
      "hello, world!\n"
     ]
    }
   ],
   "source": [
    "print (\"hello, world!\")"
   ]
  },
  {
   "cell_type": "code",
   "execution_count": 2,
   "id": "66d02f7a-5de7-40dd-8279-0394a5e23931",
   "metadata": {},
   "outputs": [
    {
     "name": "stdout",
     "output_type": "stream",
     "text": [
      "Hello, world!\n"
     ]
    }
   ],
   "source": [
    "print(\"Hello, world!\")"
   ]
  },
  {
   "cell_type": "markdown",
   "id": "527bb31c-1f57-4602-9f3f-26a82b9a60bb",
   "metadata": {
    "jp-MarkdownHeadingCollapsed": true
   },
   "source": [
    "## 1. Primitive Types\n",
    "integer, floating-point, string, boolean, list, tuple, dictionary, literal blocking string"
   ]
  },
  {
   "cell_type": "markdown",
   "id": "71978da6-4bf1-48a0-9ca5-a7f0884ebd50",
   "metadata": {
    "jp-MarkdownHeadingCollapsed": true
   },
   "source": [
    "### 1.1 integer"
   ]
  },
  {
   "cell_type": "code",
   "execution_count": 1,
   "id": "8028f39e-5138-48f0-8ebd-a1a276be1045",
   "metadata": {},
   "outputs": [
    {
     "data": {
      "text/plain": [
       "50"
      ]
     },
     "execution_count": 1,
     "metadata": {},
     "output_type": "execute_result"
    }
   ],
   "source": [
    "50"
   ]
  },
  {
   "cell_type": "code",
   "execution_count": 5,
   "id": "cbe12c21-5770-4098-86e6-f44407f4431d",
   "metadata": {},
   "outputs": [
    {
     "data": {
      "text/plain": [
       "79"
      ]
     },
     "execution_count": 5,
     "metadata": {},
     "output_type": "execute_result"
    }
   ],
   "source": [
    "#16进制数值\n",
    "0x4F"
   ]
  },
  {
   "cell_type": "markdown",
   "id": "cb325adb-e676-4837-a9ce-5a68f039ea96",
   "metadata": {
    "jp-MarkdownHeadingCollapsed": true
   },
   "source": [
    "### 1.2 floating-point"
   ]
  },
  {
   "cell_type": "code",
   "execution_count": 6,
   "id": "03f1d490-1359-4776-9c48-cd514c80728f",
   "metadata": {},
   "outputs": [
    {
     "data": {
      "text/plain": [
       "25.45"
      ]
     },
     "execution_count": 6,
     "metadata": {},
     "output_type": "execute_result"
    }
   ],
   "source": [
    "25.45"
   ]
  },
  {
   "cell_type": "code",
   "execution_count": 7,
   "id": "07235ad7-30b6-4643-b93d-fe76dde3c5e0",
   "metadata": {},
   "outputs": [
    {
     "data": {
      "text/plain": [
       "0.017045"
      ]
     },
     "execution_count": 7,
     "metadata": {},
     "output_type": "execute_result"
    }
   ],
   "source": [
    "17.045E-03"
   ]
  },
  {
   "cell_type": "markdown",
   "id": "41f73392-f863-4d84-abfd-3716a3bc7f9f",
   "metadata": {
    "jp-MarkdownHeadingCollapsed": true
   },
   "source": [
    "### 1.3 string"
   ]
  },
  {
   "cell_type": "code",
   "execution_count": 9,
   "id": "d7b0e3a6-52d3-43b2-b4b0-42c5df27a2b7",
   "metadata": {},
   "outputs": [
    {
     "data": {
      "text/plain": [
       "'string'"
      ]
     },
     "execution_count": 9,
     "metadata": {},
     "output_type": "execute_result"
    }
   ],
   "source": [
    "\"string\""
   ]
  },
  {
   "cell_type": "code",
   "execution_count": 10,
   "id": "e98964bb-a4b9-4847-82db-bf96c3a4f1cf",
   "metadata": {},
   "outputs": [
    {
     "data": {
      "text/plain": [
       "'another string'"
      ]
     },
     "execution_count": 10,
     "metadata": {},
     "output_type": "execute_result"
    }
   ],
   "source": [
    "'another string'"
   ]
  },
  {
   "cell_type": "markdown",
   "id": "e1099a56-0e92-4f39-9f1f-207a2f3d3f7f",
   "metadata": {
    "jp-MarkdownHeadingCollapsed": true
   },
   "source": [
    "### 1.4 boolean"
   ]
  },
  {
   "cell_type": "code",
   "execution_count": 13,
   "id": "c74403c5-2f5e-4694-aee3-a435562eb6fe",
   "metadata": {},
   "outputs": [
    {
     "data": {
      "text/plain": [
       "True"
      ]
     },
     "execution_count": 13,
     "metadata": {},
     "output_type": "execute_result"
    }
   ],
   "source": [
    "True"
   ]
  },
  {
   "cell_type": "code",
   "execution_count": 14,
   "id": "db38c111-64b8-4b91-94dd-8f82f3979df3",
   "metadata": {},
   "outputs": [
    {
     "data": {
      "text/plain": [
       "False"
      ]
     },
     "execution_count": 14,
     "metadata": {},
     "output_type": "execute_result"
    }
   ],
   "source": [
    "False"
   ]
  },
  {
   "cell_type": "markdown",
   "id": "9f9b9cd1-95f5-4e9a-a201-45d6cb4e0ef6",
   "metadata": {
    "jp-MarkdownHeadingCollapsed": true
   },
   "source": [
    "### 1.5 list"
   ]
  },
  {
   "cell_type": "code",
   "execution_count": 11,
   "id": "0540cf3f-ad21-4fde-967e-a8b111969483",
   "metadata": {},
   "outputs": [
    {
     "data": {
      "text/plain": [
       "[1, 2, 3, 4]"
      ]
     },
     "execution_count": 11,
     "metadata": {},
     "output_type": "execute_result"
    }
   ],
   "source": [
    "[1,2,3,4]"
   ]
  },
  {
   "cell_type": "code",
   "execution_count": 12,
   "id": "473716d1-a05b-4a97-b368-d6f53e2d703e",
   "metadata": {},
   "outputs": [
    {
     "data": {
      "text/plain": [
       "['abc', 1, 4.5, True]"
      ]
     },
     "execution_count": 12,
     "metadata": {},
     "output_type": "execute_result"
    }
   ],
   "source": [
    "[\"abc\",1, 4.5, True]"
   ]
  },
  {
   "cell_type": "markdown",
   "id": "7e35b33a-b79b-4353-bb16-525f2ddf5df3",
   "metadata": {
    "jp-MarkdownHeadingCollapsed": true
   },
   "source": [
    "### 1.6 tuple\n",
    "similar to list， butcontens cannot be changed once a tuple has been created"
   ]
  },
  {
   "cell_type": "code",
   "execution_count": 15,
   "id": "9d02d69d-c1ed-4940-92a4-5651dd5e5c49",
   "metadata": {},
   "outputs": [
    {
     "data": {
      "text/plain": [
       "(1, 2, 'd')"
      ]
     },
     "execution_count": 15,
     "metadata": {},
     "output_type": "execute_result"
    }
   ],
   "source": [
    "(1,2,\"d\")"
   ]
  },
  {
   "cell_type": "markdown",
   "id": "36fed602-788e-412b-aa4f-234b18f6e0f8",
   "metadata": {
    "jp-MarkdownHeadingCollapsed": true
   },
   "source": [
    "### 1.7 dictionary"
   ]
  },
  {
   "cell_type": "code",
   "execution_count": 16,
   "id": "8c3f615a-90d6-4ebc-b26d-ee5165e9e210",
   "metadata": {},
   "outputs": [
    {
     "data": {
      "text/plain": [
       "{123: 'abc', 456: 'bbb', 789: 2.3}"
      ]
     },
     "execution_count": 16,
     "metadata": {},
     "output_type": "execute_result"
    }
   ],
   "source": [
    "{123:\"abc\", 456:\"bbb\", 789:2.3}"
   ]
  },
  {
   "cell_type": "markdown",
   "id": "3e9af660-5d2e-4ad9-b456-7e4e68c135a3",
   "metadata": {},
   "source": [
    "### 1.8 literal block string"
   ]
  },
  {
   "cell_type": "code",
   "execution_count": 18,
   "id": "4a5e766d-8a5b-4603-bd16-5b85e634c797",
   "metadata": {},
   "outputs": [
    {
     "data": {
      "text/plain": [
       "'This is a string which \\n   can continue onto a new line. When printed, it will appear \\n   exactly as written between the triple quotes.'"
      ]
     },
     "execution_count": 18,
     "metadata": {},
     "output_type": "execute_result"
    }
   ],
   "source": [
    "\"\"\"This is a string which \n",
    "   can continue onto a new line. When printed, it will appear \n",
    "   exactly as written between the triple quotes.\"\"\""
   ]
  },
  {
   "cell_type": "markdown",
   "id": "7abb830e-c45c-4715-bca9-8c578dacf34b",
   "metadata": {
    "jp-MarkdownHeadingCollapsed": true
   },
   "source": [
    "## 2. Variables\n",
    "A **variable** is a named storage location that associates a name with an **object**.\n",
    "\n",
    "**Variables do not store data themselves**, but instead store **references** to the **objects** that contain the **data**. \n",
    "\n",
    "A **reference** is simply the memory address of the location where the **object** is stored."
   ]
  },
  {
   "cell_type": "markdown",
   "id": "9f4a7189-76cb-40e9-a654-a6533f08329c",
   "metadata": {},
   "source": [
    "### 2.1 Assignment"
   ]
  },
  {
   "cell_type": "code",
   "execution_count": 5,
   "id": "873f3c0b-1f01-42c7-a5e5-d23dc537ba8a",
   "metadata": {},
   "outputs": [],
   "source": [
    "name = \"John\"\n",
    "idNum = 42\n",
    "avg = 3.45"
   ]
  },
  {
   "cell_type": "markdown",
   "id": "4c0238bc-9ef7-400e-b18a-88393ecdf02b",
   "metadata": {},
   "source": [
    "### 2.2 Alias\n",
    "both variables refer to the same object"
   ]
  },
  {
   "cell_type": "code",
   "execution_count": 2,
   "id": "afc6e62f-ce83-4e17-8b07-10c672ab3f2e",
   "metadata": {},
   "outputs": [],
   "source": [
    "name = \"John\"\n",
    "#When onevariable is assigned to another,\n",
    "#the reference contained in the variable on the righthand side is copied to the variable on the lefthand side\n",
    "student = name"
   ]
  },
  {
   "cell_type": "markdown",
   "id": "f5be0420-7139-48ae-a474-c90c1842a688",
   "metadata": {},
   "source": [
    "### 2.3 Null References\n",
    "A variable can be set such that it does **not reference any object**, in which case it’s called a **null reference**. \n",
    "\n",
    "In Python, the special object `None` is used to set a null reference. "
   ]
  },
  {
   "cell_type": "code",
   "execution_count": 7,
   "id": "5b48b1eb-a05c-4734-a193-c89e769dc869",
   "metadata": {},
   "outputs": [],
   "source": [
    "idNum = None"
   ]
  },
  {
   "cell_type": "code",
   "execution_count": 8,
   "id": "0ae199f9-8be2-4edb-b221-8b26069c7555",
   "metadata": {},
   "outputs": [],
   "source": [
    "idNum"
   ]
  },
  {
   "cell_type": "markdown",
   "id": "72dae31f-7148-47ce-8785-5e11e6e2dae1",
   "metadata": {},
   "source": [
    "### 2.4 Constants\n",
    "Python does not support constant variables, but it is common practice to specify constant variables with all capital letters, as illustrated in the following example:"
   ]
  },
  {
   "cell_type": "code",
   "execution_count": 9,
   "id": "9a75d1d5-ab2b-4be3-be51-53b9fe4e4fdc",
   "metadata": {},
   "outputs": [],
   "source": [
    "TAX_RATE = 0.06\n",
    "MAX_SIZE = 100"
   ]
  },
  {
   "cell_type": "markdown",
   "id": "12eabca9-3ee3-428b-829d-5dafc4ad9d54",
   "metadata": {},
   "source": [
    "## 3. Arithmetic Oprators"
   ]
  },
  {
   "cell_type": "code",
   "execution_count": 13,
   "id": "1fdccda1-e904-49ed-855f-918cf43c2896",
   "metadata": {},
   "outputs": [
    {
     "data": {
      "text/plain": [
       "3"
      ]
     },
     "execution_count": 13,
     "metadata": {},
     "output_type": "execute_result"
    }
   ],
   "source": [
    "# floor division \n",
    "11 // 3"
   ]
  },
  {
   "cell_type": "code",
   "execution_count": 12,
   "id": "a17cfd21-9596-4039-a3f2-6fce121cac40",
   "metadata": {},
   "outputs": [
    {
     "data": {
      "text/plain": [
       "3.6666666666666665"
      ]
     },
     "execution_count": 12,
     "metadata": {},
     "output_type": "execute_result"
    }
   ],
   "source": [
    "# real division\n",
    "11 / 3"
   ]
  },
  {
   "cell_type": "code",
   "execution_count": 14,
   "id": "cf14fd63-d03e-4f60-861d-bfac947d5139",
   "metadata": {},
   "outputs": [
    {
     "data": {
      "text/plain": [
       "2"
      ]
     },
     "execution_count": 14,
     "metadata": {},
     "output_type": "execute_result"
    }
   ],
   "source": [
    "# modulo operator\n",
    "11 % 3"
   ]
  },
  {
   "cell_type": "code",
   "execution_count": 15,
   "id": "f34c93bd-9988-452b-80ca-b4ce969c9448",
   "metadata": {},
   "outputs": [
    {
     "data": {
      "text/plain": [
       "1024"
      ]
     },
     "execution_count": 15,
     "metadata": {},
     "output_type": "execute_result"
    }
   ],
   "source": [
    "# power \n",
    "2 ** 10"
   ]
  },
  {
   "cell_type": "code",
   "execution_count": null,
   "id": "e879d811-2b50-4745-924c-58f42cf2e194",
   "metadata": {},
   "outputs": [],
   "source": []
  }
 ],
 "metadata": {
  "kernelspec": {
   "display_name": "Python 3 (ipykernel)",
   "language": "python",
   "name": "python3"
  },
  "language_info": {
   "codemirror_mode": {
    "name": "ipython",
    "version": 3
   },
   "file_extension": ".py",
   "mimetype": "text/x-python",
   "name": "python",
   "nbconvert_exporter": "python",
   "pygments_lexer": "ipython3",
   "version": "3.12.4"
  }
 },
 "nbformat": 4,
 "nbformat_minor": 5
}
