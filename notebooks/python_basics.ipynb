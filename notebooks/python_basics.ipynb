{
 "cells": [
  {
   "cell_type": "code",
   "execution_count": 1,
   "id": "1fd61f34-e866-4632-89f3-026fbaca9eae",
   "metadata": {},
   "outputs": [
    {
     "name": "stdout",
     "output_type": "stream",
     "text": [
      "hello, world!\n"
     ]
    }
   ],
   "source": [
    "print (\"hello, world!\")"
   ]
  },
  {
   "cell_type": "code",
   "execution_count": 2,
   "id": "66d02f7a-5de7-40dd-8279-0394a5e23931",
   "metadata": {},
   "outputs": [
    {
     "name": "stdout",
     "output_type": "stream",
     "text": [
      "Hello, world!\n"
     ]
    }
   ],
   "source": [
    "print(\"Hello, world!\")"
   ]
  },
  {
   "cell_type": "markdown",
   "id": "527bb31c-1f57-4602-9f3f-26a82b9a60bb",
   "metadata": {},
   "source": [
    "## 1. Primitive Types"
   ]
  },
  {
   "cell_type": "markdown",
   "id": "71978da6-4bf1-48a0-9ca5-a7f0884ebd50",
   "metadata": {
    "jp-MarkdownHeadingCollapsed": true
   },
   "source": [
    "### 1.1 integer"
   ]
  },
  {
   "cell_type": "code",
   "execution_count": 1,
   "id": "8028f39e-5138-48f0-8ebd-a1a276be1045",
   "metadata": {},
   "outputs": [
    {
     "data": {
      "text/plain": [
       "50"
      ]
     },
     "execution_count": 1,
     "metadata": {},
     "output_type": "execute_result"
    }
   ],
   "source": [
    "50"
   ]
  },
  {
   "cell_type": "code",
   "execution_count": 5,
   "id": "cbe12c21-5770-4098-86e6-f44407f4431d",
   "metadata": {},
   "outputs": [
    {
     "data": {
      "text/plain": [
       "79"
      ]
     },
     "execution_count": 5,
     "metadata": {},
     "output_type": "execute_result"
    }
   ],
   "source": [
    "#16进制数值\n",
    "0x4F"
   ]
  },
  {
   "cell_type": "markdown",
   "id": "cb325adb-e676-4837-a9ce-5a68f039ea96",
   "metadata": {
    "jp-MarkdownHeadingCollapsed": true
   },
   "source": [
    "### 1.2 floating-point"
   ]
  },
  {
   "cell_type": "code",
   "execution_count": 6,
   "id": "03f1d490-1359-4776-9c48-cd514c80728f",
   "metadata": {},
   "outputs": [
    {
     "data": {
      "text/plain": [
       "25.45"
      ]
     },
     "execution_count": 6,
     "metadata": {},
     "output_type": "execute_result"
    }
   ],
   "source": [
    "25.45"
   ]
  },
  {
   "cell_type": "code",
   "execution_count": 7,
   "id": "07235ad7-30b6-4643-b93d-fe76dde3c5e0",
   "metadata": {},
   "outputs": [
    {
     "data": {
      "text/plain": [
       "0.017045"
      ]
     },
     "execution_count": 7,
     "metadata": {},
     "output_type": "execute_result"
    }
   ],
   "source": [
    "17.045E-03"
   ]
  },
  {
   "cell_type": "markdown",
   "id": "41f73392-f863-4d84-abfd-3716a3bc7f9f",
   "metadata": {
    "jp-MarkdownHeadingCollapsed": true
   },
   "source": [
    "### 1.3 string"
   ]
  },
  {
   "cell_type": "code",
   "execution_count": 9,
   "id": "d7b0e3a6-52d3-43b2-b4b0-42c5df27a2b7",
   "metadata": {},
   "outputs": [
    {
     "data": {
      "text/plain": [
       "'string'"
      ]
     },
     "execution_count": 9,
     "metadata": {},
     "output_type": "execute_result"
    }
   ],
   "source": [
    "\"string\""
   ]
  },
  {
   "cell_type": "code",
   "execution_count": 10,
   "id": "e98964bb-a4b9-4847-82db-bf96c3a4f1cf",
   "metadata": {},
   "outputs": [
    {
     "data": {
      "text/plain": [
       "'another string'"
      ]
     },
     "execution_count": 10,
     "metadata": {},
     "output_type": "execute_result"
    }
   ],
   "source": [
    "'another string'"
   ]
  },
  {
   "cell_type": "markdown",
   "id": "e1099a56-0e92-4f39-9f1f-207a2f3d3f7f",
   "metadata": {
    "jp-MarkdownHeadingCollapsed": true
   },
   "source": [
    "### 1.4 boolean"
   ]
  },
  {
   "cell_type": "code",
   "execution_count": 13,
   "id": "c74403c5-2f5e-4694-aee3-a435562eb6fe",
   "metadata": {},
   "outputs": [
    {
     "data": {
      "text/plain": [
       "True"
      ]
     },
     "execution_count": 13,
     "metadata": {},
     "output_type": "execute_result"
    }
   ],
   "source": [
    "True"
   ]
  },
  {
   "cell_type": "code",
   "execution_count": 14,
   "id": "db38c111-64b8-4b91-94dd-8f82f3979df3",
   "metadata": {},
   "outputs": [
    {
     "data": {
      "text/plain": [
       "False"
      ]
     },
     "execution_count": 14,
     "metadata": {},
     "output_type": "execute_result"
    }
   ],
   "source": [
    "False"
   ]
  },
  {
   "cell_type": "markdown",
   "id": "9f9b9cd1-95f5-4e9a-a201-45d6cb4e0ef6",
   "metadata": {
    "jp-MarkdownHeadingCollapsed": true
   },
   "source": [
    "### 1.5 list"
   ]
  },
  {
   "cell_type": "code",
   "execution_count": 11,
   "id": "0540cf3f-ad21-4fde-967e-a8b111969483",
   "metadata": {},
   "outputs": [
    {
     "data": {
      "text/plain": [
       "[1, 2, 3, 4]"
      ]
     },
     "execution_count": 11,
     "metadata": {},
     "output_type": "execute_result"
    }
   ],
   "source": [
    "[1,2,3,4]"
   ]
  },
  {
   "cell_type": "code",
   "execution_count": 12,
   "id": "473716d1-a05b-4a97-b368-d6f53e2d703e",
   "metadata": {},
   "outputs": [
    {
     "data": {
      "text/plain": [
       "['abc', 1, 4.5, True]"
      ]
     },
     "execution_count": 12,
     "metadata": {},
     "output_type": "execute_result"
    }
   ],
   "source": [
    "[\"abc\",1, 4.5, True]"
   ]
  },
  {
   "cell_type": "markdown",
   "id": "7e35b33a-b79b-4353-bb16-525f2ddf5df3",
   "metadata": {
    "jp-MarkdownHeadingCollapsed": true
   },
   "source": [
    "### 1.6 tuple\n",
    "similar to list， butcontens cannot be changed once a tuple has been created"
   ]
  },
  {
   "cell_type": "code",
   "execution_count": 15,
   "id": "9d02d69d-c1ed-4940-92a4-5651dd5e5c49",
   "metadata": {},
   "outputs": [
    {
     "data": {
      "text/plain": [
       "(1, 2, 'd')"
      ]
     },
     "execution_count": 15,
     "metadata": {},
     "output_type": "execute_result"
    }
   ],
   "source": [
    "(1,2,\"d\")"
   ]
  },
  {
   "cell_type": "markdown",
   "id": "36fed602-788e-412b-aa4f-234b18f6e0f8",
   "metadata": {
    "jp-MarkdownHeadingCollapsed": true
   },
   "source": [
    "### 1.7 dictionary"
   ]
  },
  {
   "cell_type": "code",
   "execution_count": 16,
   "id": "8c3f615a-90d6-4ebc-b26d-ee5165e9e210",
   "metadata": {},
   "outputs": [
    {
     "data": {
      "text/plain": [
       "{123: 'abc', 456: 'bbb', 789: 2.3}"
      ]
     },
     "execution_count": 16,
     "metadata": {},
     "output_type": "execute_result"
    }
   ],
   "source": [
    "{123:\"abc\", 456:\"bbb\", 789:2.3}"
   ]
  },
  {
   "cell_type": "markdown",
   "id": "3e9af660-5d2e-4ad9-b456-7e4e68c135a3",
   "metadata": {
    "jp-MarkdownHeadingCollapsed": true
   },
   "source": [
    "### 1.8 literal block string"
   ]
  },
  {
   "cell_type": "code",
   "execution_count": 18,
   "id": "4a5e766d-8a5b-4603-bd16-5b85e634c797",
   "metadata": {},
   "outputs": [
    {
     "data": {
      "text/plain": [
       "'This is a string which \\n   can continue onto a new line. When printed, it will appear \\n   exactly as written between the triple quotes.'"
      ]
     },
     "execution_count": 18,
     "metadata": {},
     "output_type": "execute_result"
    }
   ],
   "source": [
    "\"\"\"This is a string which \n",
    "   can continue onto a new line. When printed, it will appear \n",
    "   exactly as written between the triple quotes.\"\"\""
   ]
  },
  {
   "cell_type": "code",
   "execution_count": null,
   "id": "7e67ef08-3d4d-4e0f-8c4b-7b1c1b4919bf",
   "metadata": {},
   "outputs": [],
   "source": []
  }
 ],
 "metadata": {
  "kernelspec": {
   "display_name": "Python 3 (ipykernel)",
   "language": "python",
   "name": "python3"
  },
  "language_info": {
   "codemirror_mode": {
    "name": "ipython",
    "version": 3
   },
   "file_extension": ".py",
   "mimetype": "text/x-python",
   "name": "python",
   "nbconvert_exporter": "python",
   "pygments_lexer": "ipython3",
   "version": "3.12.4"
  }
 },
 "nbformat": 4,
 "nbformat_minor": 5
}
