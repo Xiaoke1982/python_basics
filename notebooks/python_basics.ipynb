{
 "cells": [
  {
   "cell_type": "code",
   "execution_count": 1,
   "id": "1fd61f34-e866-4632-89f3-026fbaca9eae",
   "metadata": {},
   "outputs": [
    {
     "name": "stdout",
     "output_type": "stream",
     "text": [
      "hello, world!\n"
     ]
    }
   ],
   "source": [
    "print (\"hello, world!\")"
   ]
  },
  {
   "cell_type": "code",
   "execution_count": 2,
   "id": "66d02f7a-5de7-40dd-8279-0394a5e23931",
   "metadata": {},
   "outputs": [
    {
     "name": "stdout",
     "output_type": "stream",
     "text": [
      "Hello, world!\n"
     ]
    }
   ],
   "source": [
    "print(\"Hello, world!\")"
   ]
  },
  {
   "cell_type": "markdown",
   "id": "527bb31c-1f57-4602-9f3f-26a82b9a60bb",
   "metadata": {
    "jp-MarkdownHeadingCollapsed": true
   },
   "source": [
    "## 1. Primitive Types\n",
    "integer, floating-point, string, boolean, list, tuple, dictionary, literal blocking string"
   ]
  },
  {
   "cell_type": "markdown",
   "id": "71978da6-4bf1-48a0-9ca5-a7f0884ebd50",
   "metadata": {
    "jp-MarkdownHeadingCollapsed": true
   },
   "source": [
    "### 1.1 integer"
   ]
  },
  {
   "cell_type": "code",
   "execution_count": 1,
   "id": "8028f39e-5138-48f0-8ebd-a1a276be1045",
   "metadata": {},
   "outputs": [
    {
     "data": {
      "text/plain": [
       "50"
      ]
     },
     "execution_count": 1,
     "metadata": {},
     "output_type": "execute_result"
    }
   ],
   "source": [
    "50"
   ]
  },
  {
   "cell_type": "code",
   "execution_count": 5,
   "id": "cbe12c21-5770-4098-86e6-f44407f4431d",
   "metadata": {},
   "outputs": [
    {
     "data": {
      "text/plain": [
       "79"
      ]
     },
     "execution_count": 5,
     "metadata": {},
     "output_type": "execute_result"
    }
   ],
   "source": [
    "#16进制数值\n",
    "0x4F"
   ]
  },
  {
   "cell_type": "markdown",
   "id": "cb325adb-e676-4837-a9ce-5a68f039ea96",
   "metadata": {
    "jp-MarkdownHeadingCollapsed": true
   },
   "source": [
    "### 1.2 floating-point"
   ]
  },
  {
   "cell_type": "code",
   "execution_count": 6,
   "id": "03f1d490-1359-4776-9c48-cd514c80728f",
   "metadata": {},
   "outputs": [
    {
     "data": {
      "text/plain": [
       "25.45"
      ]
     },
     "execution_count": 6,
     "metadata": {},
     "output_type": "execute_result"
    }
   ],
   "source": [
    "25.45"
   ]
  },
  {
   "cell_type": "code",
   "execution_count": 7,
   "id": "07235ad7-30b6-4643-b93d-fe76dde3c5e0",
   "metadata": {},
   "outputs": [
    {
     "data": {
      "text/plain": [
       "0.017045"
      ]
     },
     "execution_count": 7,
     "metadata": {},
     "output_type": "execute_result"
    }
   ],
   "source": [
    "17.045E-03"
   ]
  },
  {
   "cell_type": "markdown",
   "id": "41f73392-f863-4d84-abfd-3716a3bc7f9f",
   "metadata": {
    "jp-MarkdownHeadingCollapsed": true
   },
   "source": [
    "### 1.3 string"
   ]
  },
  {
   "cell_type": "code",
   "execution_count": 9,
   "id": "d7b0e3a6-52d3-43b2-b4b0-42c5df27a2b7",
   "metadata": {},
   "outputs": [
    {
     "data": {
      "text/plain": [
       "'string'"
      ]
     },
     "execution_count": 9,
     "metadata": {},
     "output_type": "execute_result"
    }
   ],
   "source": [
    "\"string\""
   ]
  },
  {
   "cell_type": "code",
   "execution_count": 10,
   "id": "e98964bb-a4b9-4847-82db-bf96c3a4f1cf",
   "metadata": {},
   "outputs": [
    {
     "data": {
      "text/plain": [
       "'another string'"
      ]
     },
     "execution_count": 10,
     "metadata": {},
     "output_type": "execute_result"
    }
   ],
   "source": [
    "'another string'"
   ]
  },
  {
   "cell_type": "markdown",
   "id": "e1099a56-0e92-4f39-9f1f-207a2f3d3f7f",
   "metadata": {
    "jp-MarkdownHeadingCollapsed": true
   },
   "source": [
    "### 1.4 boolean"
   ]
  },
  {
   "cell_type": "code",
   "execution_count": 13,
   "id": "c74403c5-2f5e-4694-aee3-a435562eb6fe",
   "metadata": {},
   "outputs": [
    {
     "data": {
      "text/plain": [
       "True"
      ]
     },
     "execution_count": 13,
     "metadata": {},
     "output_type": "execute_result"
    }
   ],
   "source": [
    "True"
   ]
  },
  {
   "cell_type": "code",
   "execution_count": 14,
   "id": "db38c111-64b8-4b91-94dd-8f82f3979df3",
   "metadata": {},
   "outputs": [
    {
     "data": {
      "text/plain": [
       "False"
      ]
     },
     "execution_count": 14,
     "metadata": {},
     "output_type": "execute_result"
    }
   ],
   "source": [
    "False"
   ]
  },
  {
   "cell_type": "markdown",
   "id": "9f9b9cd1-95f5-4e9a-a201-45d6cb4e0ef6",
   "metadata": {
    "jp-MarkdownHeadingCollapsed": true
   },
   "source": [
    "### 1.5 list"
   ]
  },
  {
   "cell_type": "code",
   "execution_count": 11,
   "id": "0540cf3f-ad21-4fde-967e-a8b111969483",
   "metadata": {},
   "outputs": [
    {
     "data": {
      "text/plain": [
       "[1, 2, 3, 4]"
      ]
     },
     "execution_count": 11,
     "metadata": {},
     "output_type": "execute_result"
    }
   ],
   "source": [
    "[1,2,3,4]"
   ]
  },
  {
   "cell_type": "code",
   "execution_count": 12,
   "id": "473716d1-a05b-4a97-b368-d6f53e2d703e",
   "metadata": {},
   "outputs": [
    {
     "data": {
      "text/plain": [
       "['abc', 1, 4.5, True]"
      ]
     },
     "execution_count": 12,
     "metadata": {},
     "output_type": "execute_result"
    }
   ],
   "source": [
    "[\"abc\",1, 4.5, True]"
   ]
  },
  {
   "cell_type": "markdown",
   "id": "7e35b33a-b79b-4353-bb16-525f2ddf5df3",
   "metadata": {
    "jp-MarkdownHeadingCollapsed": true
   },
   "source": [
    "### 1.6 tuple\n",
    "similar to list， butcontens cannot be changed once a tuple has been created"
   ]
  },
  {
   "cell_type": "code",
   "execution_count": 15,
   "id": "9d02d69d-c1ed-4940-92a4-5651dd5e5c49",
   "metadata": {},
   "outputs": [
    {
     "data": {
      "text/plain": [
       "(1, 2, 'd')"
      ]
     },
     "execution_count": 15,
     "metadata": {},
     "output_type": "execute_result"
    }
   ],
   "source": [
    "(1,2,\"d\")"
   ]
  },
  {
   "cell_type": "markdown",
   "id": "36fed602-788e-412b-aa4f-234b18f6e0f8",
   "metadata": {
    "jp-MarkdownHeadingCollapsed": true
   },
   "source": [
    "### 1.7 dictionary"
   ]
  },
  {
   "cell_type": "code",
   "execution_count": 16,
   "id": "8c3f615a-90d6-4ebc-b26d-ee5165e9e210",
   "metadata": {},
   "outputs": [
    {
     "data": {
      "text/plain": [
       "{123: 'abc', 456: 'bbb', 789: 2.3}"
      ]
     },
     "execution_count": 16,
     "metadata": {},
     "output_type": "execute_result"
    }
   ],
   "source": [
    "{123:\"abc\", 456:\"bbb\", 789:2.3}"
   ]
  },
  {
   "cell_type": "markdown",
   "id": "3e9af660-5d2e-4ad9-b456-7e4e68c135a3",
   "metadata": {},
   "source": [
    "### 1.8 literal block string"
   ]
  },
  {
   "cell_type": "code",
   "execution_count": 18,
   "id": "4a5e766d-8a5b-4603-bd16-5b85e634c797",
   "metadata": {},
   "outputs": [
    {
     "data": {
      "text/plain": [
       "'This is a string which \\n   can continue onto a new line. When printed, it will appear \\n   exactly as written between the triple quotes.'"
      ]
     },
     "execution_count": 18,
     "metadata": {},
     "output_type": "execute_result"
    }
   ],
   "source": [
    "\"\"\"This is a string which \n",
    "   can continue onto a new line. When printed, it will appear \n",
    "   exactly as written between the triple quotes.\"\"\""
   ]
  },
  {
   "cell_type": "markdown",
   "id": "7abb830e-c45c-4715-bca9-8c578dacf34b",
   "metadata": {
    "jp-MarkdownHeadingCollapsed": true
   },
   "source": [
    "## 2. Variables\n",
    "A **variable** is a named storage location that associates a name with an **object**.\n",
    "\n",
    "**Variables do not store data themselves**, but instead store **references** to the **objects** that contain the **data**. \n",
    "\n",
    "A **reference** is simply the memory address of the location where the **object** is stored."
   ]
  },
  {
   "cell_type": "markdown",
   "id": "9f4a7189-76cb-40e9-a654-a6533f08329c",
   "metadata": {},
   "source": [
    "### 2.1 Assignment"
   ]
  },
  {
   "cell_type": "code",
   "execution_count": 5,
   "id": "873f3c0b-1f01-42c7-a5e5-d23dc537ba8a",
   "metadata": {},
   "outputs": [],
   "source": [
    "name = \"John\"\n",
    "idNum = 42\n",
    "avg = 3.45"
   ]
  },
  {
   "cell_type": "markdown",
   "id": "4c0238bc-9ef7-400e-b18a-88393ecdf02b",
   "metadata": {},
   "source": [
    "### 2.2 Alias\n",
    "both variables refer to the same object"
   ]
  },
  {
   "cell_type": "code",
   "execution_count": 2,
   "id": "afc6e62f-ce83-4e17-8b07-10c672ab3f2e",
   "metadata": {},
   "outputs": [],
   "source": [
    "name = \"John\"\n",
    "#When onevariable is assigned to another,\n",
    "#the reference contained in the variable on the righthand side is copied to the variable on the lefthand side\n",
    "student = name"
   ]
  },
  {
   "cell_type": "markdown",
   "id": "f5be0420-7139-48ae-a474-c90c1842a688",
   "metadata": {},
   "source": [
    "### 2.3 Null References\n",
    "A variable can be set such that it does **not reference any object**, in which case it’s called a **null reference**. \n",
    "\n",
    "In Python, the special object `None` is used to set a null reference. "
   ]
  },
  {
   "cell_type": "code",
   "execution_count": 7,
   "id": "5b48b1eb-a05c-4734-a193-c89e769dc869",
   "metadata": {},
   "outputs": [],
   "source": [
    "idNum = None"
   ]
  },
  {
   "cell_type": "code",
   "execution_count": 8,
   "id": "0ae199f9-8be2-4edb-b221-8b26069c7555",
   "metadata": {},
   "outputs": [],
   "source": [
    "idNum"
   ]
  },
  {
   "cell_type": "markdown",
   "id": "72dae31f-7148-47ce-8785-5e11e6e2dae1",
   "metadata": {},
   "source": [
    "### 2.4 Constants\n",
    "Python does not support constant variables, but it is common practice to specify constant variables with all capital letters, as illustrated in the following example:"
   ]
  },
  {
   "cell_type": "code",
   "execution_count": 9,
   "id": "9a75d1d5-ab2b-4be3-be51-53b9fe4e4fdc",
   "metadata": {},
   "outputs": [],
   "source": [
    "TAX_RATE = 0.06\n",
    "MAX_SIZE = 100"
   ]
  },
  {
   "cell_type": "markdown",
   "id": "12eabca9-3ee3-428b-829d-5dafc4ad9d54",
   "metadata": {
    "jp-MarkdownHeadingCollapsed": true
   },
   "source": [
    "## 3. Arithmetic Oprators"
   ]
  },
  {
   "cell_type": "code",
   "execution_count": 13,
   "id": "1fdccda1-e904-49ed-855f-918cf43c2896",
   "metadata": {},
   "outputs": [
    {
     "data": {
      "text/plain": [
       "3"
      ]
     },
     "execution_count": 13,
     "metadata": {},
     "output_type": "execute_result"
    }
   ],
   "source": [
    "# floor division \n",
    "11 // 3"
   ]
  },
  {
   "cell_type": "code",
   "execution_count": 1,
   "id": "fe90ec4c-8082-41e9-872a-87693ca65f2d",
   "metadata": {},
   "outputs": [
    {
     "data": {
      "text/plain": [
       "3.0"
      ]
     },
     "execution_count": 1,
     "metadata": {},
     "output_type": "execute_result"
    }
   ],
   "source": [
    "# floor division \n",
    "11 // 3.0"
   ]
  },
  {
   "cell_type": "code",
   "execution_count": 12,
   "id": "a17cfd21-9596-4039-a3f2-6fce121cac40",
   "metadata": {},
   "outputs": [
    {
     "data": {
      "text/plain": [
       "3.6666666666666665"
      ]
     },
     "execution_count": 12,
     "metadata": {},
     "output_type": "execute_result"
    }
   ],
   "source": [
    "# real division\n",
    "11 / 3"
   ]
  },
  {
   "cell_type": "code",
   "execution_count": 2,
   "id": "d4ed5da6-053d-4590-a463-05d7acb991dc",
   "metadata": {},
   "outputs": [
    {
     "data": {
      "text/plain": [
       "3.6666666666666665"
      ]
     },
     "execution_count": 2,
     "metadata": {},
     "output_type": "execute_result"
    }
   ],
   "source": [
    "# real division\n",
    "11 / 3.0"
   ]
  },
  {
   "cell_type": "code",
   "execution_count": 14,
   "id": "cf14fd63-d03e-4f60-861d-bfac947d5139",
   "metadata": {},
   "outputs": [
    {
     "data": {
      "text/plain": [
       "2"
      ]
     },
     "execution_count": 14,
     "metadata": {},
     "output_type": "execute_result"
    }
   ],
   "source": [
    "# modulo operator\n",
    "11 % 3"
   ]
  },
  {
   "cell_type": "code",
   "execution_count": 15,
   "id": "f34c93bd-9988-452b-80ca-b4ce969c9448",
   "metadata": {},
   "outputs": [
    {
     "data": {
      "text/plain": [
       "1024"
      ]
     },
     "execution_count": 15,
     "metadata": {},
     "output_type": "execute_result"
    }
   ],
   "source": [
    "# power \n",
    "2 ** 10"
   ]
  },
  {
   "cell_type": "markdown",
   "id": "1422ec1b-84c8-4b4c-a0a4-eb8622be2680",
   "metadata": {
    "jp-MarkdownHeadingCollapsed": true
   },
   "source": [
    "## 4. Logical Expressions"
   ]
  },
  {
   "cell_type": "markdown",
   "id": "9414dad3-2741-424c-af2a-1e46dbc4f831",
   "metadata": {},
   "source": [
    "### 4.1 Boolean Operators\n",
    "`not` a\n",
    "\n",
    "a `and` b\n",
    "\n",
    "a `or` b"
   ]
  },
  {
   "cell_type": "markdown",
   "id": "41d03752-f07a-4f8e-8745-6fd2231704fa",
   "metadata": {
    "jp-MarkdownHeadingCollapsed": true
   },
   "source": [
    "### 4.2 Object References\n",
    "Python provides the `is` and `is not` operators for comparing references, or the addresses stored in variables."
   ]
  },
  {
   "cell_type": "code",
   "execution_count": 1,
   "id": "87f6ad5a-3e7f-4907-9778-374f753bc154",
   "metadata": {},
   "outputs": [
    {
     "data": {
      "text/plain": [
       "False"
      ]
     },
     "execution_count": 1,
     "metadata": {},
     "output_type": "execute_result"
    }
   ],
   "source": [
    "name1 = \"Smith\"\n",
    "name2 = \"John\"\n",
    "result = name1 is name2\n",
    "result"
   ]
  },
  {
   "cell_type": "code",
   "execution_count": 2,
   "id": "7ebf7ce6-32e7-48a3-b0ad-7d20c6c4d5b5",
   "metadata": {},
   "outputs": [
    {
     "data": {
      "text/plain": [
       "True"
      ]
     },
     "execution_count": 2,
     "metadata": {},
     "output_type": "execute_result"
    }
   ],
   "source": [
    "name2 = name1\n",
    "result = name1 is name2\n",
    "result"
   ]
  },
  {
   "cell_type": "code",
   "execution_count": 3,
   "id": "e5fb886d-2dc0-4207-b5e5-00e4abf74272",
   "metadata": {},
   "outputs": [
    {
     "data": {
      "text/plain": [
       "False"
      ]
     },
     "execution_count": 3,
     "metadata": {},
     "output_type": "execute_result"
    }
   ],
   "source": [
    "name1 is not name2"
   ]
  },
  {
   "cell_type": "code",
   "execution_count": 4,
   "id": "c9ec6299-462f-41f5-a26b-f7141ac5d234",
   "metadata": {},
   "outputs": [
    {
     "data": {
      "text/plain": [
       "False"
      ]
     },
     "execution_count": 4,
     "metadata": {},
     "output_type": "execute_result"
    }
   ],
   "source": [
    "not (name1 is name2)"
   ]
  },
  {
   "cell_type": "code",
   "execution_count": 5,
   "id": "468cf0f9-5b8d-4c19-a57a-adfe578973e4",
   "metadata": {},
   "outputs": [
    {
     "data": {
      "text/plain": [
       "False"
      ]
     },
     "execution_count": 5,
     "metadata": {},
     "output_type": "execute_result"
    }
   ],
   "source": [
    "name1 is None"
   ]
  },
  {
   "cell_type": "code",
   "execution_count": 6,
   "id": "426f94ee-ac1e-41f0-a141-082ba041d83d",
   "metadata": {},
   "outputs": [
    {
     "data": {
      "text/plain": [
       "True"
      ]
     },
     "execution_count": 6,
     "metadata": {},
     "output_type": "execute_result"
    }
   ],
   "source": [
    "name2 is not None"
   ]
  },
  {
   "cell_type": "markdown",
   "id": "cb4cc83f-24c7-44ff-8f10-57bf4532ce83",
   "metadata": {
    "jp-MarkdownHeadingCollapsed": true
   },
   "source": [
    "## 5. Functions\n",
    "built-in types' constructors and methods"
   ]
  },
  {
   "cell_type": "markdown",
   "id": "b4620e30-f0ea-43b6-82d7-9e074e74164a",
   "metadata": {},
   "source": [
    "### 5.1 `int()`"
   ]
  },
  {
   "cell_type": "code",
   "execution_count": 8,
   "id": "842cad87-d07a-45bb-8b72-6bf36777e45c",
   "metadata": {},
   "outputs": [
    {
     "data": {
      "text/plain": [
       "45"
      ]
     },
     "execution_count": 8,
     "metadata": {},
     "output_type": "execute_result"
    }
   ],
   "source": [
    "int(45.1)"
   ]
  },
  {
   "cell_type": "code",
   "execution_count": 11,
   "id": "77902e7d-e8c0-4819-a594-1530af6708a1",
   "metadata": {},
   "outputs": [
    {
     "data": {
      "text/plain": [
       "45"
      ]
     },
     "execution_count": 11,
     "metadata": {},
     "output_type": "execute_result"
    }
   ],
   "source": [
    "int(\"45\")"
   ]
  },
  {
   "cell_type": "markdown",
   "id": "c84cde7b-405a-498c-af71-0bcaf3b5dd05",
   "metadata": {},
   "source": [
    "### 5.2 `bool()`"
   ]
  },
  {
   "cell_type": "code",
   "execution_count": 15,
   "id": "656e2911-4b50-415e-9e4f-4f250b265bbb",
   "metadata": {},
   "outputs": [
    {
     "data": {
      "text/plain": [
       "True"
      ]
     },
     "execution_count": 15,
     "metadata": {},
     "output_type": "execute_result"
    }
   ],
   "source": [
    "# 45 is non-zero, so returen True\n",
    "bool(45)"
   ]
  },
  {
   "cell_type": "code",
   "execution_count": 14,
   "id": "70586bf0-fdcf-4e30-8cec-49ef9e44f5cf",
   "metadata": {},
   "outputs": [
    {
     "data": {
      "text/plain": [
       "True"
      ]
     },
     "execution_count": 14,
     "metadata": {},
     "output_type": "execute_result"
    }
   ],
   "source": [
    "bool(\"True\")"
   ]
  },
  {
   "cell_type": "code",
   "execution_count": 16,
   "id": "cee170a2-8547-4434-a860-2a570bf32720",
   "metadata": {},
   "outputs": [
    {
     "data": {
      "text/plain": [
       "False"
      ]
     },
     "execution_count": 16,
     "metadata": {},
     "output_type": "execute_result"
    }
   ],
   "source": [
    "bool(0)"
   ]
  },
  {
   "cell_type": "markdown",
   "id": "1d464c29-8036-4843-b787-7d06124913f0",
   "metadata": {},
   "source": [
    "### 5.3 `float()`"
   ]
  },
  {
   "cell_type": "code",
   "execution_count": 17,
   "id": "c671d518-6b24-4b8e-a38d-2062daeef366",
   "metadata": {},
   "outputs": [
    {
     "data": {
      "text/plain": [
       "4.56"
      ]
     },
     "execution_count": 17,
     "metadata": {},
     "output_type": "execute_result"
    }
   ],
   "source": [
    "float(\"4.56\")"
   ]
  },
  {
   "cell_type": "code",
   "execution_count": 18,
   "id": "ababe43d-02bb-4413-8ef7-ec480397047a",
   "metadata": {},
   "outputs": [
    {
     "data": {
      "text/plain": [
       "4.0"
      ]
     },
     "execution_count": 18,
     "metadata": {},
     "output_type": "execute_result"
    }
   ],
   "source": [
    "float(4)"
   ]
  },
  {
   "cell_type": "markdown",
   "id": "1b4e11e4-a752-4d69-88c5-dc340c581d7d",
   "metadata": {},
   "source": [
    "### 5.4 `str()`"
   ]
  },
  {
   "cell_type": "code",
   "execution_count": 19,
   "id": "1b880433-416f-4f36-b322-e561d122ee58",
   "metadata": {},
   "outputs": [
    {
     "data": {
      "text/plain": [
       "'3.4'"
      ]
     },
     "execution_count": 19,
     "metadata": {},
     "output_type": "execute_result"
    }
   ],
   "source": [
    "str(3.4)"
   ]
  },
  {
   "cell_type": "code",
   "execution_count": 20,
   "id": "1aad04f6-7018-43ae-bc4d-c7660fb396ef",
   "metadata": {},
   "outputs": [
    {
     "data": {
      "text/plain": [
       "'555'"
      ]
     },
     "execution_count": 20,
     "metadata": {},
     "output_type": "execute_result"
    }
   ],
   "source": [
    "str(555)"
   ]
  },
  {
   "cell_type": "code",
   "execution_count": 21,
   "id": "6aef74ec-48a5-4d53-8620-70787ea0b99c",
   "metadata": {},
   "outputs": [
    {
     "data": {
      "text/plain": [
       "'True'"
      ]
     },
     "execution_count": 21,
     "metadata": {},
     "output_type": "execute_result"
    }
   ],
   "source": [
    "str(True)"
   ]
  },
  {
   "cell_type": "markdown",
   "id": "bdcdca05-535e-4936-ac4f-5b350c66acdc",
   "metadata": {},
   "source": [
    "### 5.5 `str().lower()` method"
   ]
  },
  {
   "cell_type": "code",
   "execution_count": 22,
   "id": "27a6b9b5-24ae-416e-8d1f-e6620d3a0f9e",
   "metadata": {},
   "outputs": [
    {
     "data": {
      "text/plain": [
       "'james bond'"
      ]
     },
     "execution_count": 22,
     "metadata": {},
     "output_type": "execute_result"
    }
   ],
   "source": [
    "name = \"James Bond\"\n",
    "name.lower()"
   ]
  },
  {
   "cell_type": "markdown",
   "id": "1e732648-7b82-4fd2-b905-36cec2da9c22",
   "metadata": {
    "jp-MarkdownHeadingCollapsed": true
   },
   "source": [
    "## 6. Standard Library"
   ]
  },
  {
   "cell_type": "code",
   "execution_count": 23,
   "id": "97d6ddea-07dd-43ca-992b-7ba67f9f48c3",
   "metadata": {},
   "outputs": [],
   "source": [
    "from math import sqrt"
   ]
  },
  {
   "cell_type": "code",
   "execution_count": 24,
   "id": "b43e5f74-ccf2-4eb5-bf25-63621652ac79",
   "metadata": {},
   "outputs": [
    {
     "data": {
      "text/plain": [
       "9.0"
      ]
     },
     "execution_count": 24,
     "metadata": {},
     "output_type": "execute_result"
    }
   ],
   "source": [
    "sqrt(81)"
   ]
  },
  {
   "cell_type": "code",
   "execution_count": 25,
   "id": "502cc870-f99a-4fe3-a744-384d7c2e1bb4",
   "metadata": {},
   "outputs": [
    {
     "data": {
      "text/plain": [
       "14.0"
      ]
     },
     "execution_count": 25,
     "metadata": {},
     "output_type": "execute_result"
    }
   ],
   "source": [
    "import math\n",
    "math.sqrt(196)"
   ]
  },
  {
   "cell_type": "markdown",
   "id": "41f538a4-1f72-4687-ba6b-bf23401fafbe",
   "metadata": {},
   "source": [
    "## 7. Collections\n",
    "string, tuple, list and dictionary"
   ]
  },
  {
   "cell_type": "markdown",
   "id": "6ad60baa-8a63-457f-99c2-651e9279a250",
   "metadata": {
    "jp-MarkdownHeadingCollapsed": true
   },
   "source": [
    "### 7.1 Strings"
   ]
  },
  {
   "cell_type": "code",
   "execution_count": 3,
   "id": "5fad11ea-1b31-49e5-b852-0352659613b4",
   "metadata": {},
   "outputs": [
    {
     "data": {
      "text/plain": [
       "'this is a string'"
      ]
     },
     "execution_count": 3,
     "metadata": {},
     "output_type": "execute_result"
    }
   ],
   "source": [
    "a = \"this is \"\n",
    "b = a + \"a string\"\n",
    "b"
   ]
  },
  {
   "cell_type": "code",
   "execution_count": 4,
   "id": "5d5167f3-8747-4678-8867-5d567b3941d9",
   "metadata": {},
   "outputs": [
    {
     "data": {
      "text/plain": [
       "16"
      ]
     },
     "execution_count": 4,
     "metadata": {},
     "output_type": "execute_result"
    }
   ],
   "source": [
    "len(b)"
   ]
  },
  {
   "cell_type": "code",
   "execution_count": 5,
   "id": "13d58236-a1f5-4c0c-813b-8b6a33720fda",
   "metadata": {},
   "outputs": [
    {
     "name": "stdout",
     "output_type": "stream",
     "text": [
      "t\n"
     ]
    }
   ],
   "source": [
    "print(b[0])"
   ]
  },
  {
   "cell_type": "code",
   "execution_count": 7,
   "id": "eca5c896-fa50-4336-83ff-988b0f050a05",
   "metadata": {},
   "outputs": [
    {
     "name": "stdout",
     "output_type": "stream",
     "text": [
      "g\n"
     ]
    }
   ],
   "source": [
    "print(b[-1])"
   ]
  },
  {
   "cell_type": "code",
   "execution_count": 8,
   "id": "6d1b67fd-f9df-451e-b302-d3d1fc1dc343",
   "metadata": {},
   "outputs": [
    {
     "name": "stdout",
     "output_type": "stream",
     "text": [
      "this is a stringthis is a string\n"
     ]
    }
   ],
   "source": [
    "print(b*2)"
   ]
  },
  {
   "cell_type": "markdown",
   "id": "abc5848a-8adc-43c0-be10-e4dbdfb4f0af",
   "metadata": {
    "jp-MarkdownHeadingCollapsed": true
   },
   "source": [
    "### 7.2 Lists"
   ]
  },
  {
   "cell_type": "code",
   "execution_count": 10,
   "id": "8610ae13-aba1-4324-9c46-61511b73ce94",
   "metadata": {},
   "outputs": [
    {
     "data": {
      "text/plain": [
       "[1, 2, 3, 'abc']"
      ]
     },
     "execution_count": 10,
     "metadata": {},
     "output_type": "execute_result"
    }
   ],
   "source": [
    "a = [1,2,3,\"abc\"]\n",
    "a"
   ]
  },
  {
   "cell_type": "code",
   "execution_count": 11,
   "id": "29d8a9da-ba0c-460a-a0dc-04eb0e4a5904",
   "metadata": {},
   "outputs": [
    {
     "data": {
      "text/plain": [
       "int"
      ]
     },
     "execution_count": 11,
     "metadata": {},
     "output_type": "execute_result"
    }
   ],
   "source": [
    "type(a[1])"
   ]
  },
  {
   "cell_type": "code",
   "execution_count": 12,
   "id": "dd6ee94a-7a8a-49eb-96ce-5e00075f9867",
   "metadata": {},
   "outputs": [
    {
     "data": {
      "text/plain": [
       "str"
      ]
     },
     "execution_count": 12,
     "metadata": {},
     "output_type": "execute_result"
    }
   ],
   "source": [
    "type(a[3])"
   ]
  },
  {
   "cell_type": "code",
   "execution_count": 13,
   "id": "85c39c02-ebf3-473b-b23c-b4e5ad57dce0",
   "metadata": {},
   "outputs": [],
   "source": [
    "#empty list\n",
    "A = []\n",
    "B = list()"
   ]
  },
  {
   "cell_type": "markdown",
   "id": "a3d93e3b-3902-4174-b9e2-6755b0f6b976",
   "metadata": {
    "jp-MarkdownHeadingCollapsed": true
   },
   "source": [
    "#### 7.2.1 Element Access"
   ]
  },
  {
   "cell_type": "code",
   "execution_count": 1,
   "id": "7401d66c-d05d-4c88-8115-9fca2569f40e",
   "metadata": {},
   "outputs": [
    {
     "data": {
      "text/plain": [
       "85"
      ]
     },
     "execution_count": 1,
     "metadata": {},
     "output_type": "execute_result"
    }
   ],
   "source": [
    "gradList = [85, 90, 87, 65, 91]\n",
    "gradList[0]"
   ]
  },
  {
   "cell_type": "code",
   "execution_count": 2,
   "id": "770c8a29-bf46-4558-a629-2d27020d5227",
   "metadata": {},
   "outputs": [
    {
     "data": {
      "text/plain": [
       "91"
      ]
     },
     "execution_count": 2,
     "metadata": {},
     "output_type": "execute_result"
    }
   ],
   "source": [
    "gradList[-1]"
   ]
  },
  {
   "cell_type": "code",
   "execution_count": 3,
   "id": "8fa0cbdd-cd1f-45bc-99aa-77c1609d5762",
   "metadata": {},
   "outputs": [
    {
     "data": {
      "text/plain": [
       "'[85, 90, 87, 65, 91]'"
      ]
     },
     "execution_count": 3,
     "metadata": {},
     "output_type": "execute_result"
    }
   ],
   "source": [
    "str(gradList)"
   ]
  },
  {
   "cell_type": "code",
   "execution_count": 4,
   "id": "aa426cc6-eefe-4408-8a48-95c4dcdc7b81",
   "metadata": {},
   "outputs": [
    {
     "name": "stdout",
     "output_type": "stream",
     "text": [
      "85\n",
      "90\n",
      "87\n",
      "65\n",
      "91\n"
     ]
    }
   ],
   "source": [
    "for grad in gradList:\n",
    "    print(grad)"
   ]
  },
  {
   "cell_type": "markdown",
   "id": "8cd336cf-6a58-42ba-a881-6a78ff3e047d",
   "metadata": {},
   "source": [
    "#### 7.2.2 List Modification"
   ]
  },
  {
   "cell_type": "code",
   "execution_count": 5,
   "id": "67c24bdf-14a8-4e88-9b81-57451c932801",
   "metadata": {},
   "outputs": [
    {
     "data": {
      "text/plain": [
       "[85, 90, 87, 65, 91]"
      ]
     },
     "execution_count": 5,
     "metadata": {},
     "output_type": "execute_result"
    }
   ],
   "source": [
    "gradList"
   ]
  },
  {
   "cell_type": "code",
   "execution_count": 6,
   "id": "7c07a883-6f54-4e03-858c-ae8de285445a",
   "metadata": {},
   "outputs": [
    {
     "data": {
      "text/plain": [
       "[85, 90, 87, 71, 91]"
      ]
     },
     "execution_count": 6,
     "metadata": {},
     "output_type": "execute_result"
    }
   ],
   "source": [
    "gradList[3] = 71\n",
    "gradList"
   ]
  },
  {
   "cell_type": "code",
   "execution_count": 8,
   "id": "7aaf7fbe-6c69-4f81-bfb5-b199833aebbc",
   "metadata": {},
   "outputs": [
    {
     "data": {
      "text/plain": [
       "[0.6312673140055338,\n",
       " 0.22465156666606367,\n",
       " 0.07548578371414927,\n",
       " 0.6554945583695628,\n",
       " 0.269975565968826,\n",
       " 0.8523403903853491,\n",
       " 0.6707160574632518,\n",
       " 0.33627090276647353,\n",
       " 0.7576800856890199,\n",
       " 0.33121471180470574]"
      ]
     },
     "execution_count": 8,
     "metadata": {},
     "output_type": "execute_result"
    }
   ],
   "source": [
    "# append()\n",
    "import random\n",
    "\n",
    "values = list()\n",
    "for i in range(10):\n",
    "    values.append(random.random())\n",
    "values"
   ]
  },
  {
   "cell_type": "code",
   "execution_count": 12,
   "id": "a8ad9f6a-8992-4c65-a443-c9a747f71437",
   "metadata": {},
   "outputs": [
    {
     "name": "stdout",
     "output_type": "stream",
     "text": [
      "Help on built-in function random:\n",
      "\n",
      "random() method of random.Random instance\n",
      "    random() -> x in the interval [0, 1).\n",
      "\n"
     ]
    }
   ],
   "source": [
    "help(random.random)"
   ]
  },
  {
   "cell_type": "code",
   "execution_count": 21,
   "id": "eb4294a1-6a47-494f-ab25-5eff54578738",
   "metadata": {},
   "outputs": [
    {
     "data": {
      "text/plain": [
       "[1, 2, 3, 4, 5, 6]"
      ]
     },
     "execution_count": 21,
     "metadata": {},
     "output_type": "execute_result"
    }
   ],
   "source": [
    "# extend()\n",
    "listA = [1,2,3]\n",
    "listB = [4,5,6]\n",
    "listA.extend(listB)\n",
    "listA"
   ]
  },
  {
   "cell_type": "code",
   "execution_count": 22,
   "id": "831e69ca-0cb1-4e4a-9314-0ce74a75b091",
   "metadata": {},
   "outputs": [
    {
     "data": {
      "text/plain": [
       "[1, 888, 2, 3, 4, 5]"
      ]
     },
     "execution_count": 22,
     "metadata": {},
     "output_type": "execute_result"
    }
   ],
   "source": [
    "#insert()\n",
    "a = [1,2,3,4,5]\n",
    "a.insert(1,888)\n",
    "a"
   ]
  },
  {
   "cell_type": "code",
   "execution_count": 23,
   "id": "ffafc37f-6f7f-40ae-ae58-9e9ab448077f",
   "metadata": {},
   "outputs": [
    {
     "data": {
      "text/plain": [
       "[1, 2, 3, 4, 5]"
      ]
     },
     "execution_count": 23,
     "metadata": {},
     "output_type": "execute_result"
    }
   ],
   "source": [
    "#remove(): delete by value\n",
    "a.remove(888)\n",
    "a"
   ]
  },
  {
   "cell_type": "code",
   "execution_count": 34,
   "id": "9bb520f1-75b3-47fc-ac07-0b096df7b03d",
   "metadata": {},
   "outputs": [
    {
     "data": {
      "text/plain": [
       "[1, 2, 3, 4, 5]"
      ]
     },
     "execution_count": 34,
     "metadata": {},
     "output_type": "execute_result"
    }
   ],
   "source": [
    "#.pop(index): delete by index\n",
    "b = [1,888,2,3,4,5]\n",
    "b.pop(1)\n",
    "b"
   ]
  },
  {
   "cell_type": "markdown",
   "id": "ac9e796f-a5e3-4879-aa7b-b40e23d0a7f9",
   "metadata": {
    "jp-MarkdownHeadingCollapsed": true
   },
   "source": [
    "#### 7.2.3 Searching the list"
   ]
  },
  {
   "cell_type": "code",
   "execution_count": 25,
   "id": "29935420-d5ad-4f34-8b3d-74d5a18b8b6c",
   "metadata": {},
   "outputs": [
    {
     "data": {
      "text/plain": [
       "5"
      ]
     },
     "execution_count": 25,
     "metadata": {},
     "output_type": "execute_result"
    }
   ],
   "source": [
    "#index(): takes the value and returns the FIRST position\n",
    "A = [3,4,5,6,7,8]\n",
    "A.index(8)"
   ]
  },
  {
   "cell_type": "code",
   "execution_count": 27,
   "id": "27602421-11d5-4099-8281-9fa1d0314159",
   "metadata": {},
   "outputs": [
    {
     "data": {
      "text/plain": [
       "3"
      ]
     },
     "execution_count": 27,
     "metadata": {},
     "output_type": "execute_result"
    }
   ],
   "source": [
    "B = [2,3,4,5,6,5]\n",
    "#returns the position of the FIRST 5\n",
    "B.index(5)"
   ]
  },
  {
   "cell_type": "markdown",
   "id": "cc73d973-63df-44c9-82ee-bac5285b47b1",
   "metadata": {},
   "source": [
    "### 7.3 Tuples\n",
    "Tuples are exactly like lists, except they are immutable."
   ]
  },
  {
   "cell_type": "markdown",
   "id": "76edeb04-b2f5-499e-9d59-f86ced4a8740",
   "metadata": {
    "jp-MarkdownHeadingCollapsed": true
   },
   "source": [
    "### 7.4 Dictionaries"
   ]
  },
  {
   "cell_type": "code",
   "execution_count": 28,
   "id": "8e7f82d8-6bc0-4b0b-8f85-630a680d6bf4",
   "metadata": {},
   "outputs": [],
   "source": [
    "#empty dictionary\n",
    "A = {}\n",
    "B = dict()"
   ]
  },
  {
   "cell_type": "code",
   "execution_count": 29,
   "id": "1aeaa475-03bd-4656-8c2a-c09a46448fdc",
   "metadata": {},
   "outputs": [
    {
     "name": "stdout",
     "output_type": "stream",
     "text": [
      "0 = Freshman\n",
      "1 = Sophomore\n",
      "2 = Junior\n",
      "3 = Senior\n"
     ]
    }
   ],
   "source": [
    "classLevel = { 0 : 'Freshman', 1 : 'Sophomore', 2 : 'Junior', 3: 'Senior' }\n",
    "\n",
    "#element access\n",
    "for key in classLevel:\n",
    "    print (key, \"=\", classLevel[key])"
   ]
  },
  {
   "cell_type": "code",
   "execution_count": 30,
   "id": "fd295e3e-4cb3-4662-9b19-6039a91636e5",
   "metadata": {},
   "outputs": [
    {
     "data": {
      "text/plain": [
       "dict_keys([0, 1, 2, 3])"
      ]
     },
     "execution_count": 30,
     "metadata": {},
     "output_type": "execute_result"
    }
   ],
   "source": [
    "classLevel.keys()"
   ]
  },
  {
   "cell_type": "code",
   "execution_count": 31,
   "id": "766c9791-fb32-4755-a8da-e4ca73fbf6ab",
   "metadata": {},
   "outputs": [
    {
     "data": {
      "text/plain": [
       "dict_values(['Freshman', 'Sophomore', 'Junior', 'Senior'])"
      ]
     },
     "execution_count": 31,
     "metadata": {},
     "output_type": "execute_result"
    }
   ],
   "source": [
    "classLevel.values()"
   ]
  },
  {
   "cell_type": "code",
   "execution_count": 32,
   "id": "643f3243-b097-4cb8-84bd-3aae71fb4f8e",
   "metadata": {},
   "outputs": [
    {
     "data": {
      "text/plain": [
       "dict_keys"
      ]
     },
     "execution_count": 32,
     "metadata": {},
     "output_type": "execute_result"
    }
   ],
   "source": [
    "type(classLevel.keys())"
   ]
  },
  {
   "cell_type": "code",
   "execution_count": 33,
   "id": "2291a7e0-92a1-47eb-aa95-c2103d6019bd",
   "metadata": {},
   "outputs": [
    {
     "data": {
      "text/plain": [
       "{0: 'Freshwoman', 1: 'Sophomore', 2: 'Junior', 3: 'Senior'}"
      ]
     },
     "execution_count": 33,
     "metadata": {},
     "output_type": "execute_result"
    }
   ],
   "source": [
    "#modification\n",
    "classLevel[0] = \"Freshwoman\"\n",
    "classLevel"
   ]
  },
  {
   "cell_type": "code",
   "execution_count": 35,
   "id": "10fb0e33-76d3-47d3-8611-e4654f0baa3b",
   "metadata": {},
   "outputs": [
    {
     "data": {
      "text/plain": [
       "{1: 'Sophomore', 2: 'Junior', 3: 'Senior'}"
      ]
     },
     "execution_count": 35,
     "metadata": {},
     "output_type": "execute_result"
    }
   ],
   "source": [
    "#delete .pop(key)\n",
    "classLevel.pop(0)\n",
    "classLevel"
   ]
  },
  {
   "cell_type": "markdown",
   "id": "a3c821ed-6ad9-4523-9a99-43b02a07c9fd",
   "metadata": {},
   "source": [
    "## 8. Functions"
   ]
  },
  {
   "cell_type": "markdown",
   "id": "21a93608-682d-4acb-a93d-5ba50c2521d1",
   "metadata": {},
   "source": [
    "### 8.1 Variable Scope\n",
    "Python has **four scope** classifications. \n",
    "\n",
    "The **built-in scope** includes the variables and literal values defined as part of the language, which can be used anywhere within a program. \n",
    "\n",
    "The **global scope** includes the variables created at the top level of a source file or module (outside of all functions and classes). Unlike other languages in which a global variable can be used anywhere within a program, each module in Python creates its own global scope.\n",
    "\n",
    "The **local scope** includes the variables created within a function or method and are local to the given subroutine. Function and method arguments are local variables. \n",
    "\n",
    "And finally, the **instance scope** includes the variables defined as data attributes of a class."
   ]
  },
  {
   "cell_type": "code",
   "execution_count": null,
   "id": "64b6c3f4-8237-4479-ae13-7c5a793159fd",
   "metadata": {},
   "outputs": [],
   "source": []
  }
 ],
 "metadata": {
  "kernelspec": {
   "display_name": "Python 3 (ipykernel)",
   "language": "python",
   "name": "python3"
  },
  "language_info": {
   "codemirror_mode": {
    "name": "ipython",
    "version": 3
   },
   "file_extension": ".py",
   "mimetype": "text/x-python",
   "name": "python",
   "nbconvert_exporter": "python",
   "pygments_lexer": "ipython3",
   "version": "3.12.4"
  }
 },
 "nbformat": 4,
 "nbformat_minor": 5
}
